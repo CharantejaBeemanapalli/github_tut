{
 "cells": [
  {
   "cell_type": "markdown",
   "metadata": {},
   "source": [
    "#### statistics plays a very crucial role in the field of Data Science and Statistics is foundational to Data Science , there is strong relationship between these two fields.Statistics is one of the most important discipline that provide tools and methods to find structure and give deeper insights into data. Machine Learning is rapidly growing field at the intersection of computer science and statistics concerned with finding patterns in data. It is responsible for various advancements in technology,  product recommendations to Speech recognition to Autonomous driving ; machine learning is having presence in almost the fields."
   ]
  },
  {
   "cell_type": "code",
   "execution_count": 1,
   "metadata": {},
   "outputs": [],
   "source": [
    "import pandas as pd"
   ]
  },
  {
   "cell_type": "code",
   "execution_count": 2,
   "metadata": {},
   "outputs": [],
   "source": [
    "Winedata = pd.read_csv(r\"C:\\Users\\Admin\\Downloads\\CPT Analytics\\5 Basics of stats\\5 wine data.csv\")"
   ]
  },
  {
   "cell_type": "code",
   "execution_count": 3,
   "metadata": {},
   "outputs": [
    {
     "data": {
      "text/html": [
       "<div>\n",
       "<style scoped>\n",
       "    .dataframe tbody tr th:only-of-type {\n",
       "        vertical-align: middle;\n",
       "    }\n",
       "\n",
       "    .dataframe tbody tr th {\n",
       "        vertical-align: top;\n",
       "    }\n",
       "\n",
       "    .dataframe thead th {\n",
       "        text-align: right;\n",
       "    }\n",
       "</style>\n",
       "<table border=\"1\" class=\"dataframe\">\n",
       "  <thead>\n",
       "    <tr style=\"text-align: right;\">\n",
       "      <th></th>\n",
       "      <th>SN</th>\n",
       "      <th>country</th>\n",
       "      <th>points</th>\n",
       "      <th>price</th>\n",
       "      <th>province</th>\n",
       "      <th>region_1</th>\n",
       "      <th>variety</th>\n",
       "      <th>winery</th>\n",
       "    </tr>\n",
       "  </thead>\n",
       "  <tbody>\n",
       "    <tr>\n",
       "      <th>0</th>\n",
       "      <td>1</td>\n",
       "      <td>US</td>\n",
       "      <td>96</td>\n",
       "      <td>235</td>\n",
       "      <td>California</td>\n",
       "      <td>Napa Valley</td>\n",
       "      <td>Cabernet Sauvignon</td>\n",
       "      <td>Heitz</td>\n",
       "    </tr>\n",
       "    <tr>\n",
       "      <th>1</th>\n",
       "      <td>2</td>\n",
       "      <td>Spain</td>\n",
       "      <td>96</td>\n",
       "      <td>110</td>\n",
       "      <td>Northern Spain</td>\n",
       "      <td>Toro</td>\n",
       "      <td>Tinta de Toro</td>\n",
       "      <td>Bodega Carmen Rodríguez</td>\n",
       "    </tr>\n",
       "    <tr>\n",
       "      <th>2</th>\n",
       "      <td>3</td>\n",
       "      <td>US</td>\n",
       "      <td>96</td>\n",
       "      <td>90</td>\n",
       "      <td>California</td>\n",
       "      <td>Knights Valley</td>\n",
       "      <td>Sauvignon Blanc</td>\n",
       "      <td>Macauley</td>\n",
       "    </tr>\n",
       "    <tr>\n",
       "      <th>3</th>\n",
       "      <td>4</td>\n",
       "      <td>US</td>\n",
       "      <td>96</td>\n",
       "      <td>65</td>\n",
       "      <td>Oregon</td>\n",
       "      <td>Willamette Valley</td>\n",
       "      <td>Pinot Noir</td>\n",
       "      <td>Ponzi</td>\n",
       "    </tr>\n",
       "    <tr>\n",
       "      <th>4</th>\n",
       "      <td>5</td>\n",
       "      <td>France</td>\n",
       "      <td>95</td>\n",
       "      <td>66</td>\n",
       "      <td>Provence</td>\n",
       "      <td>Bandol</td>\n",
       "      <td>Provence red blend</td>\n",
       "      <td>Domaine de la Bégude</td>\n",
       "    </tr>\n",
       "  </tbody>\n",
       "</table>\n",
       "</div>"
      ],
      "text/plain": [
       "   SN country  points  price        province           region_1  \\\n",
       "0   1      US      96    235      California        Napa Valley   \n",
       "1   2   Spain      96    110  Northern Spain               Toro   \n",
       "2   3      US      96     90      California     Knights Valley   \n",
       "3   4      US      96     65          Oregon  Willamette Valley   \n",
       "4   5  France      95     66        Provence             Bandol   \n",
       "\n",
       "              variety                   winery  \n",
       "0  Cabernet Sauvignon                    Heitz  \n",
       "1       Tinta de Toro  Bodega Carmen Rodríguez  \n",
       "2     Sauvignon Blanc                 Macauley  \n",
       "3          Pinot Noir                    Ponzi  \n",
       "4  Provence red blend     Domaine de la Bégude  "
      ]
     },
     "execution_count": 3,
     "metadata": {},
     "output_type": "execute_result"
    }
   ],
   "source": [
    "Winedata.head()"
   ]
  },
  {
   "cell_type": "code",
   "execution_count": 4,
   "metadata": {},
   "outputs": [],
   "source": [
    "Winedata['Price_after_discount'] = Winedata[\"price\"]-(Winedata[\"price\"]*10/100)"
   ]
  },
  {
   "cell_type": "code",
   "execution_count": 5,
   "metadata": {},
   "outputs": [
    {
     "data": {
      "text/html": [
       "<div>\n",
       "<style scoped>\n",
       "    .dataframe tbody tr th:only-of-type {\n",
       "        vertical-align: middle;\n",
       "    }\n",
       "\n",
       "    .dataframe tbody tr th {\n",
       "        vertical-align: top;\n",
       "    }\n",
       "\n",
       "    .dataframe thead th {\n",
       "        text-align: right;\n",
       "    }\n",
       "</style>\n",
       "<table border=\"1\" class=\"dataframe\">\n",
       "  <thead>\n",
       "    <tr style=\"text-align: right;\">\n",
       "      <th></th>\n",
       "      <th>SN</th>\n",
       "      <th>country</th>\n",
       "      <th>points</th>\n",
       "      <th>price</th>\n",
       "      <th>province</th>\n",
       "      <th>region_1</th>\n",
       "      <th>variety</th>\n",
       "      <th>winery</th>\n",
       "      <th>Price_after_discount</th>\n",
       "    </tr>\n",
       "  </thead>\n",
       "  <tbody>\n",
       "    <tr>\n",
       "      <th>0</th>\n",
       "      <td>1</td>\n",
       "      <td>US</td>\n",
       "      <td>96</td>\n",
       "      <td>235</td>\n",
       "      <td>California</td>\n",
       "      <td>Napa Valley</td>\n",
       "      <td>Cabernet Sauvignon</td>\n",
       "      <td>Heitz</td>\n",
       "      <td>211.5</td>\n",
       "    </tr>\n",
       "    <tr>\n",
       "      <th>1</th>\n",
       "      <td>2</td>\n",
       "      <td>Spain</td>\n",
       "      <td>96</td>\n",
       "      <td>110</td>\n",
       "      <td>Northern Spain</td>\n",
       "      <td>Toro</td>\n",
       "      <td>Tinta de Toro</td>\n",
       "      <td>Bodega Carmen Rodríguez</td>\n",
       "      <td>99.0</td>\n",
       "    </tr>\n",
       "    <tr>\n",
       "      <th>2</th>\n",
       "      <td>3</td>\n",
       "      <td>US</td>\n",
       "      <td>96</td>\n",
       "      <td>90</td>\n",
       "      <td>California</td>\n",
       "      <td>Knights Valley</td>\n",
       "      <td>Sauvignon Blanc</td>\n",
       "      <td>Macauley</td>\n",
       "      <td>81.0</td>\n",
       "    </tr>\n",
       "    <tr>\n",
       "      <th>3</th>\n",
       "      <td>4</td>\n",
       "      <td>US</td>\n",
       "      <td>96</td>\n",
       "      <td>65</td>\n",
       "      <td>Oregon</td>\n",
       "      <td>Willamette Valley</td>\n",
       "      <td>Pinot Noir</td>\n",
       "      <td>Ponzi</td>\n",
       "      <td>58.5</td>\n",
       "    </tr>\n",
       "    <tr>\n",
       "      <th>4</th>\n",
       "      <td>5</td>\n",
       "      <td>France</td>\n",
       "      <td>95</td>\n",
       "      <td>66</td>\n",
       "      <td>Provence</td>\n",
       "      <td>Bandol</td>\n",
       "      <td>Provence red blend</td>\n",
       "      <td>Domaine de la Bégude</td>\n",
       "      <td>59.4</td>\n",
       "    </tr>\n",
       "  </tbody>\n",
       "</table>\n",
       "</div>"
      ],
      "text/plain": [
       "   SN country  points  price        province           region_1  \\\n",
       "0   1      US      96    235      California        Napa Valley   \n",
       "1   2   Spain      96    110  Northern Spain               Toro   \n",
       "2   3      US      96     90      California     Knights Valley   \n",
       "3   4      US      96     65          Oregon  Willamette Valley   \n",
       "4   5  France      95     66        Provence             Bandol   \n",
       "\n",
       "              variety                   winery  Price_after_discount  \n",
       "0  Cabernet Sauvignon                    Heitz                 211.5  \n",
       "1       Tinta de Toro  Bodega Carmen Rodríguez                  99.0  \n",
       "2     Sauvignon Blanc                 Macauley                  81.0  \n",
       "3          Pinot Noir                    Ponzi                  58.5  \n",
       "4  Provence red blend     Domaine de la Bégude                  59.4  "
      ]
     },
     "execution_count": 5,
     "metadata": {},
     "output_type": "execute_result"
    }
   ],
   "source": [
    "Winedata.head()"
   ]
  },
  {
   "cell_type": "code",
   "execution_count": 6,
   "metadata": {},
   "outputs": [],
   "source": [
    "Winedata = Winedata.drop([\"Price_after_discount\"],axis=1)"
   ]
  },
  {
   "cell_type": "code",
   "execution_count": 7,
   "metadata": {},
   "outputs": [
    {
     "data": {
      "text/plain": [
       "pandas.core.frame.DataFrame"
      ]
     },
     "execution_count": 7,
     "metadata": {},
     "output_type": "execute_result"
    }
   ],
   "source": [
    "type(Winedata)"
   ]
  },
  {
   "cell_type": "code",
   "execution_count": 8,
   "metadata": {},
   "outputs": [
    {
     "data": {
      "text/plain": [
       "(53518, 8)"
      ]
     },
     "execution_count": 8,
     "metadata": {},
     "output_type": "execute_result"
    }
   ],
   "source": [
    "Winedata.shape"
   ]
  },
  {
   "cell_type": "code",
   "execution_count": 9,
   "metadata": {},
   "outputs": [
    {
     "data": {
      "text/plain": [
       "Index(['SN', 'country', 'points', 'price', 'province', 'region_1', 'variety',\n",
       "       'winery'],\n",
       "      dtype='object')"
      ]
     },
     "execution_count": 9,
     "metadata": {},
     "output_type": "execute_result"
    }
   ],
   "source": [
    "Winedata.columns"
   ]
  },
  {
   "cell_type": "code",
   "execution_count": 10,
   "metadata": {},
   "outputs": [
    {
     "data": {
      "text/html": [
       "<div>\n",
       "<style scoped>\n",
       "    .dataframe tbody tr th:only-of-type {\n",
       "        vertical-align: middle;\n",
       "    }\n",
       "\n",
       "    .dataframe tbody tr th {\n",
       "        vertical-align: top;\n",
       "    }\n",
       "\n",
       "    .dataframe thead th {\n",
       "        text-align: right;\n",
       "    }\n",
       "</style>\n",
       "<table border=\"1\" class=\"dataframe\">\n",
       "  <thead>\n",
       "    <tr style=\"text-align: right;\">\n",
       "      <th></th>\n",
       "      <th>Serial_Number</th>\n",
       "      <th>country</th>\n",
       "      <th>score</th>\n",
       "      <th>price</th>\n",
       "      <th>province</th>\n",
       "      <th>region_1</th>\n",
       "      <th>variety</th>\n",
       "      <th>winery</th>\n",
       "    </tr>\n",
       "  </thead>\n",
       "  <tbody>\n",
       "    <tr>\n",
       "      <th>0</th>\n",
       "      <td>1</td>\n",
       "      <td>US</td>\n",
       "      <td>96</td>\n",
       "      <td>235</td>\n",
       "      <td>California</td>\n",
       "      <td>Napa Valley</td>\n",
       "      <td>Cabernet Sauvignon</td>\n",
       "      <td>Heitz</td>\n",
       "    </tr>\n",
       "    <tr>\n",
       "      <th>1</th>\n",
       "      <td>2</td>\n",
       "      <td>Spain</td>\n",
       "      <td>96</td>\n",
       "      <td>110</td>\n",
       "      <td>Northern Spain</td>\n",
       "      <td>Toro</td>\n",
       "      <td>Tinta de Toro</td>\n",
       "      <td>Bodega Carmen Rodríguez</td>\n",
       "    </tr>\n",
       "    <tr>\n",
       "      <th>2</th>\n",
       "      <td>3</td>\n",
       "      <td>US</td>\n",
       "      <td>96</td>\n",
       "      <td>90</td>\n",
       "      <td>California</td>\n",
       "      <td>Knights Valley</td>\n",
       "      <td>Sauvignon Blanc</td>\n",
       "      <td>Macauley</td>\n",
       "    </tr>\n",
       "    <tr>\n",
       "      <th>3</th>\n",
       "      <td>4</td>\n",
       "      <td>US</td>\n",
       "      <td>96</td>\n",
       "      <td>65</td>\n",
       "      <td>Oregon</td>\n",
       "      <td>Willamette Valley</td>\n",
       "      <td>Pinot Noir</td>\n",
       "      <td>Ponzi</td>\n",
       "    </tr>\n",
       "    <tr>\n",
       "      <th>4</th>\n",
       "      <td>5</td>\n",
       "      <td>France</td>\n",
       "      <td>95</td>\n",
       "      <td>66</td>\n",
       "      <td>Provence</td>\n",
       "      <td>Bandol</td>\n",
       "      <td>Provence red blend</td>\n",
       "      <td>Domaine de la Bégude</td>\n",
       "    </tr>\n",
       "    <tr>\n",
       "      <th>...</th>\n",
       "      <td>...</td>\n",
       "      <td>...</td>\n",
       "      <td>...</td>\n",
       "      <td>...</td>\n",
       "      <td>...</td>\n",
       "      <td>...</td>\n",
       "      <td>...</td>\n",
       "      <td>...</td>\n",
       "    </tr>\n",
       "    <tr>\n",
       "      <th>53513</th>\n",
       "      <td>53514</td>\n",
       "      <td>US</td>\n",
       "      <td>89</td>\n",
       "      <td>45</td>\n",
       "      <td>California</td>\n",
       "      <td>Santa Cruz Mountains</td>\n",
       "      <td>Chardonnay</td>\n",
       "      <td>Thomas Fogarty</td>\n",
       "    </tr>\n",
       "    <tr>\n",
       "      <th>53514</th>\n",
       "      <td>53515</td>\n",
       "      <td>Portugal</td>\n",
       "      <td>89</td>\n",
       "      <td>27</td>\n",
       "      <td>Douro</td>\n",
       "      <td>NaN</td>\n",
       "      <td>Portuguese Red</td>\n",
       "      <td>Niepoort</td>\n",
       "    </tr>\n",
       "    <tr>\n",
       "      <th>53515</th>\n",
       "      <td>53516</td>\n",
       "      <td>Italy</td>\n",
       "      <td>89</td>\n",
       "      <td>16</td>\n",
       "      <td>Tuscany</td>\n",
       "      <td>Vernaccia di San Gimignano</td>\n",
       "      <td>Vernaccia</td>\n",
       "      <td>San Quirico</td>\n",
       "    </tr>\n",
       "    <tr>\n",
       "      <th>53516</th>\n",
       "      <td>53517</td>\n",
       "      <td>France</td>\n",
       "      <td>88</td>\n",
       "      <td>18</td>\n",
       "      <td>Loire Valley</td>\n",
       "      <td>Vouvray</td>\n",
       "      <td>Chenin Blanc</td>\n",
       "      <td>Château Moncontour</td>\n",
       "    </tr>\n",
       "    <tr>\n",
       "      <th>53517</th>\n",
       "      <td>53518</td>\n",
       "      <td>France</td>\n",
       "      <td>88</td>\n",
       "      <td>25</td>\n",
       "      <td>Beaujolais</td>\n",
       "      <td>Fleurie</td>\n",
       "      <td>Gamay</td>\n",
       "      <td>Domaine Chignard</td>\n",
       "    </tr>\n",
       "  </tbody>\n",
       "</table>\n",
       "<p>53518 rows × 8 columns</p>\n",
       "</div>"
      ],
      "text/plain": [
       "       Serial_Number   country  score  price        province  \\\n",
       "0                  1        US     96    235      California   \n",
       "1                  2     Spain     96    110  Northern Spain   \n",
       "2                  3        US     96     90      California   \n",
       "3                  4        US     96     65          Oregon   \n",
       "4                  5    France     95     66        Provence   \n",
       "...              ...       ...    ...    ...             ...   \n",
       "53513          53514        US     89     45      California   \n",
       "53514          53515  Portugal     89     27           Douro   \n",
       "53515          53516     Italy     89     16         Tuscany   \n",
       "53516          53517    France     88     18    Loire Valley   \n",
       "53517          53518    France     88     25      Beaujolais   \n",
       "\n",
       "                         region_1             variety                   winery  \n",
       "0                     Napa Valley  Cabernet Sauvignon                    Heitz  \n",
       "1                            Toro       Tinta de Toro  Bodega Carmen Rodríguez  \n",
       "2                  Knights Valley     Sauvignon Blanc                 Macauley  \n",
       "3               Willamette Valley          Pinot Noir                    Ponzi  \n",
       "4                          Bandol  Provence red blend     Domaine de la Bégude  \n",
       "...                           ...                 ...                      ...  \n",
       "53513        Santa Cruz Mountains          Chardonnay           Thomas Fogarty  \n",
       "53514                         NaN      Portuguese Red                 Niepoort  \n",
       "53515  Vernaccia di San Gimignano           Vernaccia              San Quirico  \n",
       "53516                     Vouvray        Chenin Blanc       Château Moncontour  \n",
       "53517                     Fleurie               Gamay         Domaine Chignard  \n",
       "\n",
       "[53518 rows x 8 columns]"
      ]
     },
     "execution_count": 10,
     "metadata": {},
     "output_type": "execute_result"
    }
   ],
   "source": [
    "Winedata.rename(columns={\"SN\":\"Serial_Number\", \"points\":\"score\"})"
   ]
  },
  {
   "cell_type": "code",
   "execution_count": 11,
   "metadata": {},
   "outputs": [],
   "source": [
    "province_count = Winedata[\"province\"].value_counts()"
   ]
  },
  {
   "cell_type": "code",
   "execution_count": 12,
   "metadata": {},
   "outputs": [
    {
     "data": {
      "text/plain": [
       "California                   16392\n",
       "Washington                    3548\n",
       "Tuscany                       2636\n",
       "Oregon                        2501\n",
       "Northern Spain                1874\n",
       "                             ...  \n",
       "Colares                          1\n",
       "Goumenissa                       1\n",
       "Germany                          1\n",
       "Madeira                          1\n",
       "Middle and South Dalmatia        1\n",
       "Name: province, Length: 356, dtype: int64"
      ]
     },
     "execution_count": 12,
     "metadata": {},
     "output_type": "execute_result"
    }
   ],
   "source": [
    "province_count"
   ]
  },
  {
   "cell_type": "code",
   "execution_count": 13,
   "metadata": {},
   "outputs": [],
   "source": [
    "province_count.to_csv(\"counts_data.csv\")"
   ]
  },
  {
   "cell_type": "code",
   "execution_count": 14,
   "metadata": {
    "scrolled": true
   },
   "outputs": [
    {
     "data": {
      "text/plain": [
       "SN             0\n",
       "country        2\n",
       "points         0\n",
       "price          0\n",
       "province       2\n",
       "region_1    8628\n",
       "variety        0\n",
       "winery         0\n",
       "dtype: int64"
      ]
     },
     "execution_count": 14,
     "metadata": {},
     "output_type": "execute_result"
    }
   ],
   "source": [
    "Winedata.isnull().sum()"
   ]
  },
  {
   "cell_type": "markdown",
   "metadata": {},
   "source": [
    "#### When we have a set of observations, it is useful to summarize features of our data into a single statement called a descriptive statistic. As their name suggests, descriptive statistics describe a particular quality of the data they summarize. These statistics fall into two general categories: \n",
    "#### the measures of central tendency and \n",
    "#### the measures of spread."
   ]
  },
  {
   "cell_type": "markdown",
   "metadata": {},
   "source": [
    "# Measures of Central Tendency"
   ]
  },
  {
   "cell_type": "markdown",
   "metadata": {},
   "source": [
    "# Mean"
   ]
  },
  {
   "cell_type": "code",
   "execution_count": 15,
   "metadata": {},
   "outputs": [
    {
     "data": {
      "text/html": [
       "<div>\n",
       "<style scoped>\n",
       "    .dataframe tbody tr th:only-of-type {\n",
       "        vertical-align: middle;\n",
       "    }\n",
       "\n",
       "    .dataframe tbody tr th {\n",
       "        vertical-align: top;\n",
       "    }\n",
       "\n",
       "    .dataframe thead th {\n",
       "        text-align: right;\n",
       "    }\n",
       "</style>\n",
       "<table border=\"1\" class=\"dataframe\">\n",
       "  <thead>\n",
       "    <tr style=\"text-align: right;\">\n",
       "      <th></th>\n",
       "      <th>SN</th>\n",
       "      <th>country</th>\n",
       "      <th>points</th>\n",
       "      <th>price</th>\n",
       "      <th>province</th>\n",
       "      <th>region_1</th>\n",
       "      <th>variety</th>\n",
       "      <th>winery</th>\n",
       "    </tr>\n",
       "  </thead>\n",
       "  <tbody>\n",
       "    <tr>\n",
       "      <th>0</th>\n",
       "      <td>1</td>\n",
       "      <td>US</td>\n",
       "      <td>96</td>\n",
       "      <td>235</td>\n",
       "      <td>California</td>\n",
       "      <td>Napa Valley</td>\n",
       "      <td>Cabernet Sauvignon</td>\n",
       "      <td>Heitz</td>\n",
       "    </tr>\n",
       "    <tr>\n",
       "      <th>1</th>\n",
       "      <td>2</td>\n",
       "      <td>Spain</td>\n",
       "      <td>96</td>\n",
       "      <td>110</td>\n",
       "      <td>Northern Spain</td>\n",
       "      <td>Toro</td>\n",
       "      <td>Tinta de Toro</td>\n",
       "      <td>Bodega Carmen Rodríguez</td>\n",
       "    </tr>\n",
       "    <tr>\n",
       "      <th>2</th>\n",
       "      <td>3</td>\n",
       "      <td>US</td>\n",
       "      <td>96</td>\n",
       "      <td>90</td>\n",
       "      <td>California</td>\n",
       "      <td>Knights Valley</td>\n",
       "      <td>Sauvignon Blanc</td>\n",
       "      <td>Macauley</td>\n",
       "    </tr>\n",
       "    <tr>\n",
       "      <th>3</th>\n",
       "      <td>4</td>\n",
       "      <td>US</td>\n",
       "      <td>96</td>\n",
       "      <td>65</td>\n",
       "      <td>Oregon</td>\n",
       "      <td>Willamette Valley</td>\n",
       "      <td>Pinot Noir</td>\n",
       "      <td>Ponzi</td>\n",
       "    </tr>\n",
       "    <tr>\n",
       "      <th>4</th>\n",
       "      <td>5</td>\n",
       "      <td>France</td>\n",
       "      <td>95</td>\n",
       "      <td>66</td>\n",
       "      <td>Provence</td>\n",
       "      <td>Bandol</td>\n",
       "      <td>Provence red blend</td>\n",
       "      <td>Domaine de la Bégude</td>\n",
       "    </tr>\n",
       "  </tbody>\n",
       "</table>\n",
       "</div>"
      ],
      "text/plain": [
       "   SN country  points  price        province           region_1  \\\n",
       "0   1      US      96    235      California        Napa Valley   \n",
       "1   2   Spain      96    110  Northern Spain               Toro   \n",
       "2   3      US      96     90      California     Knights Valley   \n",
       "3   4      US      96     65          Oregon  Willamette Valley   \n",
       "4   5  France      95     66        Provence             Bandol   \n",
       "\n",
       "              variety                   winery  \n",
       "0  Cabernet Sauvignon                    Heitz  \n",
       "1       Tinta de Toro  Bodega Carmen Rodríguez  \n",
       "2     Sauvignon Blanc                 Macauley  \n",
       "3          Pinot Noir                    Ponzi  \n",
       "4  Provence red blend     Domaine de la Bégude  "
      ]
     },
     "execution_count": 15,
     "metadata": {},
     "output_type": "execute_result"
    }
   ],
   "source": [
    "Winedata.head()"
   ]
  },
  {
   "cell_type": "code",
   "execution_count": 5,
   "metadata": {},
   "outputs": [],
   "source": [
    "wineprice = Winedata[\"price\"]  #n1+n2/2 "
   ]
  },
  {
   "cell_type": "code",
   "execution_count": 6,
   "metadata": {},
   "outputs": [
    {
     "data": {
      "text/plain": [
       "0        235\n",
       "1        110\n",
       "2         90\n",
       "3         65\n",
       "4         66\n",
       "        ... \n",
       "53513     45\n",
       "53514     27\n",
       "53515     16\n",
       "53516     18\n",
       "53517     25\n",
       "Name: price, Length: 53518, dtype: int64"
      ]
     },
     "execution_count": 6,
     "metadata": {},
     "output_type": "execute_result"
    }
   ],
   "source": [
    "wineprice"
   ]
  },
  {
   "cell_type": "code",
   "execution_count": 7,
   "metadata": {},
   "outputs": [],
   "source": [
    "sum_price = sum(wineprice)"
   ]
  },
  {
   "cell_type": "code",
   "execution_count": 8,
   "metadata": {},
   "outputs": [
    {
     "data": {
      "text/plain": [
       "1862482"
      ]
     },
     "execution_count": 8,
     "metadata": {},
     "output_type": "execute_result"
    }
   ],
   "source": [
    "sum_price #Numerator"
   ]
  },
  {
   "cell_type": "code",
   "execution_count": 9,
   "metadata": {},
   "outputs": [],
   "source": [
    "count = len(wineprice)"
   ]
  },
  {
   "cell_type": "code",
   "execution_count": 10,
   "metadata": {},
   "outputs": [
    {
     "data": {
      "text/plain": [
       "53518"
      ]
     },
     "execution_count": 10,
     "metadata": {},
     "output_type": "execute_result"
    }
   ],
   "source": [
    "count #Denominator"
   ]
  },
  {
   "cell_type": "code",
   "execution_count": 11,
   "metadata": {},
   "outputs": [],
   "source": [
    "average = sum_price/count"
   ]
  },
  {
   "cell_type": "code",
   "execution_count": 23,
   "metadata": {},
   "outputs": [
    {
     "data": {
      "text/plain": [
       "34.80103890279906"
      ]
     },
     "execution_count": 23,
     "metadata": {},
     "output_type": "execute_result"
    }
   ],
   "source": [
    "average"
   ]
  },
  {
   "cell_type": "code",
   "execution_count": 24,
   "metadata": {},
   "outputs": [],
   "source": [
    "import numpy as np"
   ]
  },
  {
   "cell_type": "code",
   "execution_count": 25,
   "metadata": {},
   "outputs": [],
   "source": [
    "mean = np.mean(wineprice)"
   ]
  },
  {
   "cell_type": "code",
   "execution_count": 26,
   "metadata": {},
   "outputs": [
    {
     "data": {
      "text/plain": [
       "34.80103890279906"
      ]
     },
     "execution_count": 26,
     "metadata": {},
     "output_type": "execute_result"
    }
   ],
   "source": [
    "mean"
   ]
  },
  {
   "cell_type": "code",
   "execution_count": 27,
   "metadata": {},
   "outputs": [],
   "source": [
    "import statistics as st"
   ]
  },
  {
   "cell_type": "code",
   "execution_count": 28,
   "metadata": {},
   "outputs": [
    {
     "data": {
      "text/plain": [
       "34.80103890279906"
      ]
     },
     "execution_count": 28,
     "metadata": {},
     "output_type": "execute_result"
    }
   ],
   "source": [
    "st.mean(wineprice)"
   ]
  },
  {
   "cell_type": "markdown",
   "metadata": {},
   "source": [
    "# Median"
   ]
  },
  {
   "cell_type": "code",
   "execution_count": 12,
   "metadata": {},
   "outputs": [
    {
     "data": {
      "text/plain": [
       "53518"
      ]
     },
     "execution_count": 12,
     "metadata": {},
     "output_type": "execute_result"
    }
   ],
   "source": [
    "n = len(wineprice)   # n/2, (n+2)/2\n",
    "n"
   ]
  },
  {
   "cell_type": "code",
   "execution_count": 30,
   "metadata": {},
   "outputs": [],
   "source": [
    "sorted_prices = np.sort(wineprice)"
   ]
  },
  {
   "cell_type": "code",
   "execution_count": 31,
   "metadata": {},
   "outputs": [
    {
     "data": {
      "text/plain": [
       "array([   4,    4,    4, ..., 1900, 2013, 2300], dtype=int64)"
      ]
     },
     "execution_count": 31,
     "metadata": {},
     "output_type": "execute_result"
    }
   ],
   "source": [
    "sorted_prices"
   ]
  },
  {
   "cell_type": "code",
   "execution_count": 32,
   "metadata": {},
   "outputs": [
    {
     "data": {
      "text/plain": [
       "26759.0"
      ]
     },
     "execution_count": 32,
     "metadata": {},
     "output_type": "execute_result"
    }
   ],
   "source": [
    "median1 = n/2\n",
    "median1"
   ]
  },
  {
   "cell_type": "code",
   "execution_count": 33,
   "metadata": {},
   "outputs": [
    {
     "data": {
      "text/plain": [
       "26760.0"
      ]
     },
     "execution_count": 33,
     "metadata": {},
     "output_type": "execute_result"
    }
   ],
   "source": [
    "median = (n+2)/2\n",
    "median"
   ]
  },
  {
   "cell_type": "code",
   "execution_count": 34,
   "metadata": {},
   "outputs": [
    {
     "data": {
      "text/plain": [
       "25"
      ]
     },
     "execution_count": 34,
     "metadata": {},
     "output_type": "execute_result"
    }
   ],
   "source": [
    "sorted_prices[int(median1)]"
   ]
  },
  {
   "cell_type": "code",
   "execution_count": 35,
   "metadata": {},
   "outputs": [
    {
     "data": {
      "text/plain": [
       "25"
      ]
     },
     "execution_count": 35,
     "metadata": {},
     "output_type": "execute_result"
    }
   ],
   "source": [
    "sorted_prices[int(median)]"
   ]
  },
  {
   "cell_type": "code",
   "execution_count": 36,
   "metadata": {},
   "outputs": [
    {
     "data": {
      "text/plain": [
       "25.0"
      ]
     },
     "execution_count": 36,
     "metadata": {},
     "output_type": "execute_result"
    }
   ],
   "source": [
    "Median_1 = np.median(wineprice)\n",
    "Median_1"
   ]
  },
  {
   "cell_type": "code",
   "execution_count": 37,
   "metadata": {},
   "outputs": [
    {
     "data": {
      "text/plain": [
       "25.0"
      ]
     },
     "execution_count": 37,
     "metadata": {},
     "output_type": "execute_result"
    }
   ],
   "source": [
    "st.median(wineprice)"
   ]
  },
  {
   "cell_type": "markdown",
   "metadata": {},
   "source": [
    "# Mode"
   ]
  },
  {
   "cell_type": "code",
   "execution_count": 38,
   "metadata": {},
   "outputs": [],
   "source": [
    "from statistics import mode\n",
    "Mode = mode(wineprice)"
   ]
  },
  {
   "cell_type": "code",
   "execution_count": 39,
   "metadata": {},
   "outputs": [
    {
     "data": {
      "text/plain": [
       "20"
      ]
     },
     "execution_count": 39,
     "metadata": {},
     "output_type": "execute_result"
    }
   ],
   "source": [
    "Mode"
   ]
  },
  {
   "cell_type": "code",
   "execution_count": 40,
   "metadata": {
    "scrolled": true
   },
   "outputs": [
    {
     "data": {
      "text/plain": [
       "Counter({235: 9,\n",
       "         110: 79,\n",
       "         90: 311,\n",
       "         65: 661,\n",
       "         66: 49,\n",
       "         73: 20,\n",
       "         60: 936,\n",
       "         80: 356,\n",
       "         48: 592,\n",
       "         185: 9,\n",
       "         325: 6,\n",
       "         290: 4,\n",
       "         75: 587,\n",
       "         24: 1325,\n",
       "         79: 50,\n",
       "         220: 10,\n",
       "         45: 1342,\n",
       "         57: 79,\n",
       "         62: 108,\n",
       "         105: 64,\n",
       "         15: 2765,\n",
       "         37: 224,\n",
       "         22: 1505,\n",
       "         42: 608,\n",
       "         135: 49,\n",
       "         29: 551,\n",
       "         23: 731,\n",
       "         17: 1398,\n",
       "         26: 714,\n",
       "         55: 769,\n",
       "         39: 387,\n",
       "         69: 65,\n",
       "         30: 2144,\n",
       "         50: 1419,\n",
       "         40: 1696,\n",
       "         100: 283,\n",
       "         68: 81,\n",
       "         28: 1334,\n",
       "         18: 2222,\n",
       "         25: 2522,\n",
       "         36: 608,\n",
       "         38: 746,\n",
       "         85: 283,\n",
       "         19: 1270,\n",
       "         54: 143,\n",
       "         59: 106,\n",
       "         10: 1622,\n",
       "         12: 1757,\n",
       "         13: 1678,\n",
       "         14: 1446,\n",
       "         20: 3155,\n",
       "         125: 149,\n",
       "         7: 195,\n",
       "         49: 226,\n",
       "         93: 10,\n",
       "         32: 875,\n",
       "         16: 1600,\n",
       "         21: 572,\n",
       "         44: 279,\n",
       "         35: 1666,\n",
       "         61: 32,\n",
       "         34: 443,\n",
       "         11: 1035,\n",
       "         58: 163,\n",
       "         120: 123,\n",
       "         41: 88,\n",
       "         200: 32,\n",
       "         43: 129,\n",
       "         9: 683,\n",
       "         56: 131,\n",
       "         46: 173,\n",
       "         92: 28,\n",
       "         94: 17,\n",
       "         27: 559,\n",
       "         95: 147,\n",
       "         33: 308,\n",
       "         70: 426,\n",
       "         155: 11,\n",
       "         63: 51,\n",
       "         130: 58,\n",
       "         115: 46,\n",
       "         31: 120,\n",
       "         98: 17,\n",
       "         52: 207,\n",
       "         64: 56,\n",
       "         91: 4,\n",
       "         111: 2,\n",
       "         88: 26,\n",
       "         74: 28,\n",
       "         77: 16,\n",
       "         87: 17,\n",
       "         113: 3,\n",
       "         140: 50,\n",
       "         500: 6,\n",
       "         51: 32,\n",
       "         150: 113,\n",
       "         240: 9,\n",
       "         72: 70,\n",
       "         103: 7,\n",
       "         8: 407,\n",
       "         136: 1,\n",
       "         141: 3,\n",
       "         102: 16,\n",
       "         47: 116,\n",
       "         53: 87,\n",
       "         96: 12,\n",
       "         78: 35,\n",
       "         149: 4,\n",
       "         138: 4,\n",
       "         117: 5,\n",
       "         4: 6,\n",
       "         99: 40,\n",
       "         848: 1,\n",
       "         450: 5,\n",
       "         330: 2,\n",
       "         175: 43,\n",
       "         89: 21,\n",
       "         82: 43,\n",
       "         71: 19,\n",
       "         137: 4,\n",
       "         145: 21,\n",
       "         698: 1,\n",
       "         160: 16,\n",
       "         770: 2,\n",
       "         118: 6,\n",
       "         238: 2,\n",
       "         202: 1,\n",
       "         250: 16,\n",
       "         165: 11,\n",
       "         83: 11,\n",
       "         107: 5,\n",
       "         76: 15,\n",
       "         67: 38,\n",
       "         128: 5,\n",
       "         119: 5,\n",
       "         129: 1,\n",
       "         180: 14,\n",
       "         6: 68,\n",
       "         225: 15,\n",
       "         5: 14,\n",
       "         152: 2,\n",
       "         84: 14,\n",
       "         86: 25,\n",
       "         124: 3,\n",
       "         97: 5,\n",
       "         365: 3,\n",
       "         179: 1,\n",
       "         350: 11,\n",
       "         195: 14,\n",
       "         300: 17,\n",
       "         156: 1,\n",
       "         315: 3,\n",
       "         187: 1,\n",
       "         520: 1,\n",
       "         170: 13,\n",
       "         428: 1,\n",
       "         257: 1,\n",
       "         294: 1,\n",
       "         166: 1,\n",
       "         226: 1,\n",
       "         280: 6,\n",
       "         380: 4,\n",
       "         740: 1,\n",
       "         108: 11,\n",
       "         391: 2,\n",
       "         282: 1,\n",
       "         312: 3,\n",
       "         123: 4,\n",
       "         131: 1,\n",
       "         196: 1,\n",
       "         850: 2,\n",
       "         600: 3,\n",
       "         237: 4,\n",
       "         227: 2,\n",
       "         351: 1,\n",
       "         415: 1,\n",
       "         1100: 2,\n",
       "         104: 3,\n",
       "         127: 2,\n",
       "         106: 6,\n",
       "         258: 1,\n",
       "         375: 5,\n",
       "         320: 5,\n",
       "         980: 1,\n",
       "         112: 7,\n",
       "         101: 2,\n",
       "         230: 8,\n",
       "         142: 3,\n",
       "         468: 2,\n",
       "         639: 2,\n",
       "         288: 2,\n",
       "         281: 3,\n",
       "         357: 2,\n",
       "         208: 2,\n",
       "         199: 3,\n",
       "         307: 2,\n",
       "         159: 5,\n",
       "         168: 5,\n",
       "         133: 2,\n",
       "         310: 3,\n",
       "         215: 7,\n",
       "         670: 2,\n",
       "         122: 4,\n",
       "         245: 4,\n",
       "         463: 2,\n",
       "         260: 8,\n",
       "         2013: 1,\n",
       "         239: 2,\n",
       "         400: 9,\n",
       "         269: 1,\n",
       "         214: 1,\n",
       "         625: 2,\n",
       "         81: 3,\n",
       "         270: 4,\n",
       "         345: 1,\n",
       "         316: 2,\n",
       "         205: 3,\n",
       "         410: 1,\n",
       "         275: 7,\n",
       "         126: 3,\n",
       "         764: 1,\n",
       "         190: 4,\n",
       "         153: 2,\n",
       "         183: 1,\n",
       "         212: 1,\n",
       "         167: 3,\n",
       "         169: 6,\n",
       "         285: 1,\n",
       "         279: 2,\n",
       "         249: 1,\n",
       "         299: 2,\n",
       "         229: 3,\n",
       "         360: 2,\n",
       "         460: 6,\n",
       "         800: 3,\n",
       "         139: 5,\n",
       "         1400: 2,\n",
       "         385: 3,\n",
       "         390: 2,\n",
       "         252: 2,\n",
       "         109: 5,\n",
       "         154: 2,\n",
       "         134: 3,\n",
       "         295: 3,\n",
       "         445: 1,\n",
       "         612: 1,\n",
       "         271: 1,\n",
       "         228: 2,\n",
       "         448: 1,\n",
       "         292: 1,\n",
       "         440: 1,\n",
       "         376: 1,\n",
       "         231: 1,\n",
       "         114: 3,\n",
       "         349: 2,\n",
       "         399: 2,\n",
       "         163: 4,\n",
       "         210: 3,\n",
       "         116: 2,\n",
       "         151: 1,\n",
       "         148: 2,\n",
       "         162: 1,\n",
       "         191: 1,\n",
       "         173: 1,\n",
       "         318: 1,\n",
       "         550: 4,\n",
       "         510: 1,\n",
       "         660: 1,\n",
       "         685: 1,\n",
       "         182: 2,\n",
       "         775: 2,\n",
       "         323: 1,\n",
       "         419: 1,\n",
       "         132: 1,\n",
       "         2300: 1,\n",
       "         1900: 1,\n",
       "         1300: 1,\n",
       "         1200: 1,\n",
       "         236: 1,\n",
       "         412: 1,\n",
       "         1000: 1,\n",
       "         545: 1,\n",
       "         243: 1,\n",
       "         143: 2,\n",
       "         426: 1,\n",
       "         588: 1,\n",
       "         204: 1,\n",
       "         265: 1,\n",
       "         158: 1,\n",
       "         174: 1,\n",
       "         247: 1,\n",
       "         164: 4,\n",
       "         430: 1,\n",
       "         194: 2,\n",
       "         261: 1,\n",
       "         147: 2,\n",
       "         451: 1,\n",
       "         574: 1,\n",
       "         544: 1,\n",
       "         273: 1,\n",
       "         189: 1,\n",
       "         317: 1,\n",
       "         248: 1,\n",
       "         177: 1,\n",
       "         176: 1,\n",
       "         144: 1})"
      ]
     },
     "execution_count": 40,
     "metadata": {},
     "output_type": "execute_result"
    }
   ],
   "source": [
    "import collections\n",
    "collections.Counter(wineprice)"
   ]
  },
  {
   "cell_type": "code",
   "execution_count": 41,
   "metadata": {},
   "outputs": [
    {
     "name": "stdout",
     "output_type": "stream",
     "text": [
      "4 2300\n"
     ]
    }
   ],
   "source": [
    "min_price = min(wineprice)\n",
    "max_price = max(wineprice)\n",
    "\n",
    "print(min_price, max_price)\n"
   ]
  },
  {
   "cell_type": "markdown",
   "metadata": {},
   "source": [
    "# Measures of Spread"
   ]
  },
  {
   "cell_type": "markdown",
   "metadata": {},
   "source": [
    "# Range and inter quartile range"
   ]
  },
  {
   "cell_type": "code",
   "execution_count": 42,
   "metadata": {},
   "outputs": [
    {
     "name": "stdout",
     "output_type": "stream",
     "text": [
      "2296\n"
     ]
    }
   ],
   "source": [
    "price_range = max_price - min_price\n",
    "print(price_range)"
   ]
  },
  {
   "cell_type": "markdown",
   "metadata": {},
   "source": [
    "# Inter quantile range (Q3-Q1)"
   ]
  },
  {
   "cell_type": "code",
   "execution_count": 43,
   "metadata": {},
   "outputs": [
    {
     "name": "stdout",
     "output_type": "stream",
     "text": [
      "0.0    4.0\n",
      "Name: price, dtype: float64\n",
      "0.25    17.0\n",
      "Name: price, dtype: float64\n",
      "0.5    25.0\n",
      "Name: price, dtype: float64\n",
      "0.75    40.0\n",
      "Name: price, dtype: float64\n",
      "1.0    2300.0\n",
      "Name: price, dtype: float64\n"
     ]
    }
   ],
   "source": [
    "print(wineprice.quantile([0]))\n",
    "print(wineprice.quantile([0.25])) #Q1\n",
    "print(wineprice.quantile([0.50])) #Q2\n",
    "print(wineprice.quantile([0.75])) #Q3\n",
    "print(wineprice.quantile([1])) #Q4"
   ]
  },
  {
   "cell_type": "code",
   "execution_count": 44,
   "metadata": {},
   "outputs": [
    {
     "data": {
      "text/plain": [
       "array([40.])"
      ]
     },
     "execution_count": 44,
     "metadata": {},
     "output_type": "execute_result"
    }
   ],
   "source": [
    "wineprice.quantile([0.75]).values"
   ]
  },
  {
   "cell_type": "code",
   "execution_count": 45,
   "metadata": {},
   "outputs": [
    {
     "data": {
      "text/plain": [
       "array([23.])"
      ]
     },
     "execution_count": 45,
     "metadata": {},
     "output_type": "execute_result"
    }
   ],
   "source": [
    "IQR = wineprice.quantile([0.75]).values-wineprice.quantile([0.25]).values\n",
    "IQR"
   ]
  },
  {
   "cell_type": "markdown",
   "metadata": {},
   "source": [
    "# Standard Deviation"
   ]
  },
  {
   "cell_type": "markdown",
   "metadata": {},
   "source": [
    "#### The standard deviation is also a measure of the spread of your observations, but is a statement of how much your data deviates from a typical data point. That is to say, the standard deviation summarizes how much your data differs from the mean. This relationship to the mean is apparent in standard deviation’s calculation. "
   ]
  },
  {
   "cell_type": "markdown",
   "metadata": {},
   "source": [
    "#### Standard deviation is a measure that is used to quantify the amount of variation or dispersion of a set of data values."
   ]
  },
  {
   "cell_type": "code",
   "execution_count": 46,
   "metadata": {},
   "outputs": [],
   "source": [
    "def stdev_rahul(nums):\n",
    "    diffs = 0\n",
    "    avg = sum(nums)/len(nums)\n",
    "    for n in nums:\n",
    "        diffs += (n - avg)**(2)\n",
    "    return (diffs/(len(nums)-1))**(0.5)   #sqrt(sum((n-nbar)^2)/(n-1))"
   ]
  },
  {
   "cell_type": "code",
   "execution_count": 47,
   "metadata": {
    "scrolled": true
   },
   "outputs": [
    {
     "name": "stdout",
     "output_type": "stream",
     "text": [
      "41.453611192987836\n"
     ]
    }
   ],
   "source": [
    "print(stdev_rahul(wineprice))"
   ]
  },
  {
   "cell_type": "code",
   "execution_count": 48,
   "metadata": {},
   "outputs": [],
   "source": [
    "import numpy as np"
   ]
  },
  {
   "cell_type": "code",
   "execution_count": 49,
   "metadata": {},
   "outputs": [],
   "source": [
    "std_dev = np.std(wineprice)"
   ]
  },
  {
   "cell_type": "code",
   "execution_count": 50,
   "metadata": {},
   "outputs": [
    {
     "data": {
      "text/plain": [
       "41.45322390455368"
      ]
     },
     "execution_count": 50,
     "metadata": {},
     "output_type": "execute_result"
    }
   ],
   "source": [
    "std_dev"
   ]
  },
  {
   "cell_type": "code",
   "execution_count": 51,
   "metadata": {},
   "outputs": [],
   "source": [
    "import statistics\n",
    "from statistics import stdev"
   ]
  },
  {
   "cell_type": "code",
   "execution_count": 52,
   "metadata": {},
   "outputs": [
    {
     "data": {
      "text/plain": [
       "41.45361119298847"
      ]
     },
     "execution_count": 52,
     "metadata": {},
     "output_type": "execute_result"
    }
   ],
   "source": [
    "stdev(wineprice)"
   ]
  },
  {
   "cell_type": "markdown",
   "metadata": {},
   "source": [
    "# Variance"
   ]
  },
  {
   "cell_type": "markdown",
   "metadata": {},
   "source": [
    "#### Variance and standard deviation are almost the exact same thing! Variance is just the square of the standard deviation. Likewise, variance and standard deviation represent the same thing — a measure of spread — but it’s worth noting that the units are different. Whatever units your data are in, standard deviation will be the same, and variation will be in that units-squared."
   ]
  },
  {
   "cell_type": "markdown",
   "metadata": {},
   "source": [
    "#### variance is the expectation of the squared deviation of a random variable from its mean."
   ]
  },
  {
   "cell_type": "code",
   "execution_count": 53,
   "metadata": {},
   "outputs": [],
   "source": [
    "variance = np.square(std_dev)"
   ]
  },
  {
   "cell_type": "code",
   "execution_count": 54,
   "metadata": {},
   "outputs": [
    {
     "data": {
      "text/plain": [
       "1718.3697720810608"
      ]
     },
     "execution_count": 54,
     "metadata": {},
     "output_type": "execute_result"
    }
   ],
   "source": [
    "variance"
   ]
  },
  {
   "cell_type": "code",
   "execution_count": 55,
   "metadata": {},
   "outputs": [
    {
     "data": {
      "text/html": [
       "<div>\n",
       "<style scoped>\n",
       "    .dataframe tbody tr th:only-of-type {\n",
       "        vertical-align: middle;\n",
       "    }\n",
       "\n",
       "    .dataframe tbody tr th {\n",
       "        vertical-align: top;\n",
       "    }\n",
       "\n",
       "    .dataframe thead th {\n",
       "        text-align: right;\n",
       "    }\n",
       "</style>\n",
       "<table border=\"1\" class=\"dataframe\">\n",
       "  <thead>\n",
       "    <tr style=\"text-align: right;\">\n",
       "      <th></th>\n",
       "      <th>SN</th>\n",
       "      <th>points</th>\n",
       "      <th>price</th>\n",
       "    </tr>\n",
       "  </thead>\n",
       "  <tbody>\n",
       "    <tr>\n",
       "      <th>count</th>\n",
       "      <td>53518.00000</td>\n",
       "      <td>53518.000000</td>\n",
       "      <td>53518.000000</td>\n",
       "    </tr>\n",
       "    <tr>\n",
       "      <th>mean</th>\n",
       "      <td>26759.50000</td>\n",
       "      <td>88.186106</td>\n",
       "      <td>34.801039</td>\n",
       "    </tr>\n",
       "    <tr>\n",
       "      <th>std</th>\n",
       "      <td>15449.46019</td>\n",
       "      <td>3.102856</td>\n",
       "      <td>41.453611</td>\n",
       "    </tr>\n",
       "    <tr>\n",
       "      <th>min</th>\n",
       "      <td>1.00000</td>\n",
       "      <td>80.000000</td>\n",
       "      <td>4.000000</td>\n",
       "    </tr>\n",
       "    <tr>\n",
       "      <th>25%</th>\n",
       "      <td>13380.25000</td>\n",
       "      <td>86.000000</td>\n",
       "      <td>17.000000</td>\n",
       "    </tr>\n",
       "    <tr>\n",
       "      <th>50%</th>\n",
       "      <td>26759.50000</td>\n",
       "      <td>88.000000</td>\n",
       "      <td>25.000000</td>\n",
       "    </tr>\n",
       "    <tr>\n",
       "      <th>75%</th>\n",
       "      <td>40138.75000</td>\n",
       "      <td>90.000000</td>\n",
       "      <td>40.000000</td>\n",
       "    </tr>\n",
       "    <tr>\n",
       "      <th>max</th>\n",
       "      <td>53518.00000</td>\n",
       "      <td>100.000000</td>\n",
       "      <td>2300.000000</td>\n",
       "    </tr>\n",
       "  </tbody>\n",
       "</table>\n",
       "</div>"
      ],
      "text/plain": [
       "                SN        points         price\n",
       "count  53518.00000  53518.000000  53518.000000\n",
       "mean   26759.50000     88.186106     34.801039\n",
       "std    15449.46019      3.102856     41.453611\n",
       "min        1.00000     80.000000      4.000000\n",
       "25%    13380.25000     86.000000     17.000000\n",
       "50%    26759.50000     88.000000     25.000000\n",
       "75%    40138.75000     90.000000     40.000000\n",
       "max    53518.00000    100.000000   2300.000000"
      ]
     },
     "execution_count": 55,
     "metadata": {},
     "output_type": "execute_result"
    }
   ],
   "source": [
    "Winedata.describe()"
   ]
  },
  {
   "cell_type": "code",
   "execution_count": 56,
   "metadata": {},
   "outputs": [
    {
     "data": {
      "text/html": [
       "<div>\n",
       "<style scoped>\n",
       "    .dataframe tbody tr th:only-of-type {\n",
       "        vertical-align: middle;\n",
       "    }\n",
       "\n",
       "    .dataframe tbody tr th {\n",
       "        vertical-align: top;\n",
       "    }\n",
       "\n",
       "    .dataframe thead th {\n",
       "        text-align: right;\n",
       "    }\n",
       "</style>\n",
       "<table border=\"1\" class=\"dataframe\">\n",
       "  <thead>\n",
       "    <tr style=\"text-align: right;\">\n",
       "      <th></th>\n",
       "      <th>SN</th>\n",
       "      <th>country</th>\n",
       "      <th>points</th>\n",
       "      <th>price</th>\n",
       "      <th>province</th>\n",
       "      <th>region_1</th>\n",
       "      <th>variety</th>\n",
       "      <th>winery</th>\n",
       "    </tr>\n",
       "  </thead>\n",
       "  <tbody>\n",
       "    <tr>\n",
       "      <th>count</th>\n",
       "      <td>53518.00000</td>\n",
       "      <td>53516</td>\n",
       "      <td>53518.000000</td>\n",
       "      <td>53518.000000</td>\n",
       "      <td>53516</td>\n",
       "      <td>44890</td>\n",
       "      <td>53518</td>\n",
       "      <td>53518</td>\n",
       "    </tr>\n",
       "    <tr>\n",
       "      <th>unique</th>\n",
       "      <td>NaN</td>\n",
       "      <td>42</td>\n",
       "      <td>NaN</td>\n",
       "      <td>NaN</td>\n",
       "      <td>356</td>\n",
       "      <td>1005</td>\n",
       "      <td>541</td>\n",
       "      <td>10383</td>\n",
       "    </tr>\n",
       "    <tr>\n",
       "      <th>top</th>\n",
       "      <td>NaN</td>\n",
       "      <td>US</td>\n",
       "      <td>NaN</td>\n",
       "      <td>NaN</td>\n",
       "      <td>California</td>\n",
       "      <td>Napa Valley</td>\n",
       "      <td>Pinot Noir</td>\n",
       "      <td>Williams Selyem</td>\n",
       "    </tr>\n",
       "    <tr>\n",
       "      <th>freq</th>\n",
       "      <td>NaN</td>\n",
       "      <td>24007</td>\n",
       "      <td>NaN</td>\n",
       "      <td>NaN</td>\n",
       "      <td>16392</td>\n",
       "      <td>2111</td>\n",
       "      <td>6020</td>\n",
       "      <td>166</td>\n",
       "    </tr>\n",
       "    <tr>\n",
       "      <th>mean</th>\n",
       "      <td>26759.50000</td>\n",
       "      <td>NaN</td>\n",
       "      <td>88.186106</td>\n",
       "      <td>34.801039</td>\n",
       "      <td>NaN</td>\n",
       "      <td>NaN</td>\n",
       "      <td>NaN</td>\n",
       "      <td>NaN</td>\n",
       "    </tr>\n",
       "    <tr>\n",
       "      <th>std</th>\n",
       "      <td>15449.46019</td>\n",
       "      <td>NaN</td>\n",
       "      <td>3.102856</td>\n",
       "      <td>41.453611</td>\n",
       "      <td>NaN</td>\n",
       "      <td>NaN</td>\n",
       "      <td>NaN</td>\n",
       "      <td>NaN</td>\n",
       "    </tr>\n",
       "    <tr>\n",
       "      <th>min</th>\n",
       "      <td>1.00000</td>\n",
       "      <td>NaN</td>\n",
       "      <td>80.000000</td>\n",
       "      <td>4.000000</td>\n",
       "      <td>NaN</td>\n",
       "      <td>NaN</td>\n",
       "      <td>NaN</td>\n",
       "      <td>NaN</td>\n",
       "    </tr>\n",
       "    <tr>\n",
       "      <th>25%</th>\n",
       "      <td>13380.25000</td>\n",
       "      <td>NaN</td>\n",
       "      <td>86.000000</td>\n",
       "      <td>17.000000</td>\n",
       "      <td>NaN</td>\n",
       "      <td>NaN</td>\n",
       "      <td>NaN</td>\n",
       "      <td>NaN</td>\n",
       "    </tr>\n",
       "    <tr>\n",
       "      <th>50%</th>\n",
       "      <td>26759.50000</td>\n",
       "      <td>NaN</td>\n",
       "      <td>88.000000</td>\n",
       "      <td>25.000000</td>\n",
       "      <td>NaN</td>\n",
       "      <td>NaN</td>\n",
       "      <td>NaN</td>\n",
       "      <td>NaN</td>\n",
       "    </tr>\n",
       "    <tr>\n",
       "      <th>75%</th>\n",
       "      <td>40138.75000</td>\n",
       "      <td>NaN</td>\n",
       "      <td>90.000000</td>\n",
       "      <td>40.000000</td>\n",
       "      <td>NaN</td>\n",
       "      <td>NaN</td>\n",
       "      <td>NaN</td>\n",
       "      <td>NaN</td>\n",
       "    </tr>\n",
       "    <tr>\n",
       "      <th>max</th>\n",
       "      <td>53518.00000</td>\n",
       "      <td>NaN</td>\n",
       "      <td>100.000000</td>\n",
       "      <td>2300.000000</td>\n",
       "      <td>NaN</td>\n",
       "      <td>NaN</td>\n",
       "      <td>NaN</td>\n",
       "      <td>NaN</td>\n",
       "    </tr>\n",
       "  </tbody>\n",
       "</table>\n",
       "</div>"
      ],
      "text/plain": [
       "                 SN country        points         price    province  \\\n",
       "count   53518.00000   53516  53518.000000  53518.000000       53516   \n",
       "unique          NaN      42           NaN           NaN         356   \n",
       "top             NaN      US           NaN           NaN  California   \n",
       "freq            NaN   24007           NaN           NaN       16392   \n",
       "mean    26759.50000     NaN     88.186106     34.801039         NaN   \n",
       "std     15449.46019     NaN      3.102856     41.453611         NaN   \n",
       "min         1.00000     NaN     80.000000      4.000000         NaN   \n",
       "25%     13380.25000     NaN     86.000000     17.000000         NaN   \n",
       "50%     26759.50000     NaN     88.000000     25.000000         NaN   \n",
       "75%     40138.75000     NaN     90.000000     40.000000         NaN   \n",
       "max     53518.00000     NaN    100.000000   2300.000000         NaN   \n",
       "\n",
       "           region_1     variety           winery  \n",
       "count         44890       53518            53518  \n",
       "unique         1005         541            10383  \n",
       "top     Napa Valley  Pinot Noir  Williams Selyem  \n",
       "freq           2111        6020              166  \n",
       "mean            NaN         NaN              NaN  \n",
       "std             NaN         NaN              NaN  \n",
       "min             NaN         NaN              NaN  \n",
       "25%             NaN         NaN              NaN  \n",
       "50%             NaN         NaN              NaN  \n",
       "75%             NaN         NaN              NaN  \n",
       "max             NaN         NaN              NaN  "
      ]
     },
     "execution_count": 56,
     "metadata": {},
     "output_type": "execute_result"
    }
   ],
   "source": [
    "Winedata.describe(include='all')"
   ]
  },
  {
   "cell_type": "code",
   "execution_count": 57,
   "metadata": {},
   "outputs": [
    {
     "data": {
      "text/plain": [
       "count    53518.000000\n",
       "mean        34.801039\n",
       "std         41.453611\n",
       "min          4.000000\n",
       "25%         17.000000\n",
       "50%         25.000000\n",
       "75%         40.000000\n",
       "max       2300.000000\n",
       "Name: price, dtype: float64"
      ]
     },
     "execution_count": 57,
     "metadata": {},
     "output_type": "execute_result"
    }
   ],
   "source": [
    "Winedata['price'].describe()"
   ]
  },
  {
   "cell_type": "code",
   "execution_count": 58,
   "metadata": {},
   "outputs": [
    {
     "data": {
      "text/plain": [
       "SN           int64\n",
       "country     object\n",
       "points       int64\n",
       "price        int64\n",
       "province    object\n",
       "region_1    object\n",
       "variety     object\n",
       "winery      object\n",
       "dtype: object"
      ]
     },
     "execution_count": 58,
     "metadata": {},
     "output_type": "execute_result"
    }
   ],
   "source": [
    "Winedata.dtypes"
   ]
  },
  {
   "cell_type": "code",
   "execution_count": 59,
   "metadata": {},
   "outputs": [
    {
     "data": {
      "text/plain": [
       "<AxesSubplot:>"
      ]
     },
     "execution_count": 59,
     "metadata": {},
     "output_type": "execute_result"
    },
    {
     "data": {
      "image/png": "[encoded data removed]",
      "text/plain": [
       "<Figure size 360x360 with 1 Axes>"
      ]
     },
     "metadata": {
      "needs_background": "light"
     },
     "output_type": "display_data"
    }
   ],
   "source": [
    "import matplotlib.pyplot as plt \n",
    "plt.figure(figsize = (5, 5)) \n",
    "Winedata['price'].plot(kind =\"box\")"
   ]
  },
  {
   "cell_type": "code",
   "execution_count": 60,
   "metadata": {},
   "outputs": [
    {
     "name": "stdout",
     "output_type": "stream",
     "text": [
      "0.25    17.0\n",
      "Name: price, dtype: float64\n"
     ]
    }
   ],
   "source": [
    "print(wineprice.quantile([0.25]))"
   ]
  },
  {
   "cell_type": "code",
   "execution_count": 61,
   "metadata": {},
   "outputs": [
    {
     "data": {
      "text/plain": [
       "74.5"
      ]
     },
     "execution_count": 61,
     "metadata": {},
     "output_type": "execute_result"
    }
   ],
   "source": [
    "40+(1.5*23)"
   ]
  },
  {
   "cell_type": "code",
   "execution_count": 62,
   "metadata": {},
   "outputs": [
    {
     "data": {
      "text/plain": [
       "-17.5"
      ]
     },
     "execution_count": 62,
     "metadata": {},
     "output_type": "execute_result"
    }
   ],
   "source": [
    "17-(1.5*23)"
   ]
  },
  {
   "cell_type": "code",
   "execution_count": 63,
   "metadata": {},
   "outputs": [
    {
     "name": "stdout",
     "output_type": "stream",
     "text": [
      "4\n",
      "74.5\n"
     ]
    }
   ],
   "source": [
    "outlierfree_price = []\n",
    "for i in wineprice:\n",
    "    if i > 74.5:\n",
    "        outlierfree_price.append(74.5)\n",
    "    else:\n",
    "        outlierfree_price.append(i)\n",
    "print(min(outlierfree_price))\n",
    "print(max(outlierfree_price))"
   ]
  },
  {
   "cell_type": "code",
   "execution_count": 64,
   "metadata": {},
   "outputs": [],
   "source": [
    "a = pd.DataFrame(outlierfree_price, columns=[\"of_price\"])"
   ]
  },
  {
   "cell_type": "code",
   "execution_count": 65,
   "metadata": {},
   "outputs": [
    {
     "data": {
      "text/plain": [
       "<AxesSubplot:>"
      ]
     },
     "execution_count": 65,
     "metadata": {},
     "output_type": "execute_result"
    },
    {
     "data": {
      "image/png": "[encoded data removed]",
      "text/plain": [
       "<Figure size 432x288 with 1 Axes>"
      ]
     },
     "metadata": {
      "needs_background": "light"
     },
     "output_type": "display_data"
    }
   ],
   "source": [
    "a.plot(kind=\"box\")"
   ]
  },
  {
   "cell_type": "code",
   "execution_count": 66,
   "metadata": {},
   "outputs": [
    {
     "data": {
      "text/plain": [
       "<AxesSubplot:ylabel='Frequency'>"
      ]
     },
     "execution_count": 66,
     "metadata": {},
     "output_type": "execute_result"
    },
    {
     "data": {
      "image/png": "[encoded data removed]",
      "text/plain": [
       "<Figure size 432x288 with 1 Axes>"
      ]
     },
     "metadata": {
      "needs_background": "light"
     },
     "output_type": "display_data"
    }
   ],
   "source": [
    "a[\"of_price\"].plot(kind = \"hist\")"
   ]
  },
  {
   "cell_type": "code",
   "execution_count": 75,
   "metadata": {},
   "outputs": [
    {
     "data": {
      "text/plain": [
       "<AxesSubplot:xlabel='price', ylabel='Price_after_discount'>"
      ]
     },
     "execution_count": 75,
     "metadata": {},
     "output_type": "execute_result"
    },
    {
     "data": {
      "text/plain": [
       "<Figure size 360x360 with 0 Axes>"
      ]
     },
     "metadata": {},
     "output_type": "display_data"
    },
    {
     "data": {
      "image/png": "[encoded data removed]",
      "text/plain": [
       "<Figure size 432x288 with 1 Axes>"
      ]
     },
     "metadata": {
      "needs_background": "light"
     },
     "output_type": "display_data"
    }
   ],
   "source": [
    "import matplotlib.pyplot as plt \n",
    "plt.figure(figsize = (5, 5)) \n",
    "Winedata[[\"Price_after_discount\",\"price\"]].plot(kind =\"scatter\", x = \"price\", y = \"Price_after_discount\")"
   ]
  },
  {
   "cell_type": "code",
   "execution_count": 68,
   "metadata": {},
   "outputs": [
    {
     "data": {
      "text/plain": [
       "<AxesSubplot:ylabel='Frequency'>"
      ]
     },
     "execution_count": 68,
     "metadata": {},
     "output_type": "execute_result"
    },
    {
     "data": {
      "image/png": "[encoded data removed]",
      "text/plain": [
       "<Figure size 720x360 with 1 Axes>"
      ]
     },
     "metadata": {
      "needs_background": "light"
     },
     "output_type": "display_data"
    }
   ],
   "source": [
    "plt.figure(figsize = (10, 5)) \n",
    "Winedata['price'].plot(kind =\"hist\") "
   ]
  },
  {
   "cell_type": "markdown",
   "metadata": {},
   "source": [
    "# Correlation "
   ]
  },
  {
   "cell_type": "code",
   "execution_count": 69,
   "metadata": {},
   "outputs": [
    {
     "data": {
      "text/html": [
       "<div>\n",
       "<style scoped>\n",
       "    .dataframe tbody tr th:only-of-type {\n",
       "        vertical-align: middle;\n",
       "    }\n",
       "\n",
       "    .dataframe tbody tr th {\n",
       "        vertical-align: top;\n",
       "    }\n",
       "\n",
       "    .dataframe thead th {\n",
       "        text-align: right;\n",
       "    }\n",
       "</style>\n",
       "<table border=\"1\" class=\"dataframe\">\n",
       "  <thead>\n",
       "    <tr style=\"text-align: right;\">\n",
       "      <th></th>\n",
       "      <th>SN</th>\n",
       "      <th>points</th>\n",
       "      <th>price</th>\n",
       "    </tr>\n",
       "  </thead>\n",
       "  <tbody>\n",
       "    <tr>\n",
       "      <th>SN</th>\n",
       "      <td>1.000000</td>\n",
       "      <td>-0.095941</td>\n",
       "      <td>-0.026404</td>\n",
       "    </tr>\n",
       "    <tr>\n",
       "      <th>points</th>\n",
       "      <td>-0.095941</td>\n",
       "      <td>1.000000</td>\n",
       "      <td>0.427794</td>\n",
       "    </tr>\n",
       "    <tr>\n",
       "      <th>price</th>\n",
       "      <td>-0.026404</td>\n",
       "      <td>0.427794</td>\n",
       "      <td>1.000000</td>\n",
       "    </tr>\n",
       "  </tbody>\n",
       "</table>\n",
       "</div>"
      ],
      "text/plain": [
       "              SN    points     price\n",
       "SN      1.000000 -0.095941 -0.026404\n",
       "points -0.095941  1.000000  0.427794\n",
       "price  -0.026404  0.427794  1.000000"
      ]
     },
     "execution_count": 69,
     "metadata": {},
     "output_type": "execute_result"
    }
   ],
   "source": [
    "corrmat = Winedata.corr()\n",
    "corrmat"
   ]
  },
  {
   "cell_type": "code",
   "execution_count": 80,
   "metadata": {},
   "outputs": [
    {
     "data": {
      "text/plain": [
       "<AxesSubplot:>"
      ]
     },
     "execution_count": 80,
     "metadata": {},
     "output_type": "execute_result"
    },
    {
     "data": {
      "image/png": "[encoded data removed]",
      "text/plain": [
       "<Figure size 432x288 with 2 Axes>"
      ]
     },
     "metadata": {
      "needs_background": "light"
     },
     "output_type": "display_data"
    }
   ],
   "source": [
    "import seaborn as sns \n",
    "corrmat = Winedata.corr()\n",
    "\n",
    "sns.heatmap(corrmat, cmap=\"gist_rainbow\")"
   ]
  },
  {
   "cell_type": "code",
   "execution_count": null,
   "metadata": {},
   "outputs": [],
   "source": []
  }
 ],
 "metadata": {
  "kernelspec": {
   "display_name": "Python 3",
   "language": "python",
   "name": "python3"
  },
  "language_info": {
   "codemirror_mode": {
    "name": "ipython",
    "version": 3
   },
   "file_extension": ".py",
   "mimetype": "text/x-python",
   "name": "python",
   "nbconvert_exporter": "python",
   "pygments_lexer": "ipython3",
   "version": "3.8.5"
  }
 },
 "nbformat": 4,
 "nbformat_minor": 2
}
