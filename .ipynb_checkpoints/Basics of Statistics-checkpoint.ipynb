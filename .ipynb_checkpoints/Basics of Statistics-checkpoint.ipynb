{
 "cells": [
  {
   "cell_type": "markdown",
   "metadata": {},
   "source": [
    "#### statistics plays a very crucial role in the field of Data Science and Statistics is foundational to Data Science , there is strong relationship between these two fields.Statistics is one of the most important discipline that provide tools and methods to find structure and give deeper insights into data. Machine Learning is rapidly growing field at the intersection of computer science and statistics concerned with finding patterns in data. It is responsible for various advancements in technology,  product recommendations to Speech recognition to Autonomous driving ; machine learning is having presence in almost the fields."
   ]
  },
  {
   "cell_type": "code",
   "execution_count": 2,
   "metadata": {},
   "outputs": [],
   "source": [
    "import pandas as pd"
   ]
  },
  {
   "cell_type": "code",
   "execution_count": 3,
   "metadata": {},
   "outputs": [],
   "source": [
    "data = pd.read_csv(\"C:/Users/beemanapal.charantej/Downloads/my docs/tutor/CPT Analytics/Basics of stats/wine data.csv\")"
   ]
  },
  {
   "cell_type": "code",
   "execution_count": 9,
   "metadata": {},
   "outputs": [
    {
     "data": {
      "text/html": [
       "<div>\n",
       "<style scoped>\n",
       "    .dataframe tbody tr th:only-of-type {\n",
       "        vertical-align: middle;\n",
       "    }\n",
       "\n",
       "    .dataframe tbody tr th {\n",
       "        vertical-align: top;\n",
       "    }\n",
       "\n",
       "    .dataframe thead th {\n",
       "        text-align: right;\n",
       "    }\n",
       "</style>\n",
       "<table border=\"1\" class=\"dataframe\">\n",
       "  <thead>\n",
       "    <tr style=\"text-align: right;\">\n",
       "      <th></th>\n",
       "      <th>SN</th>\n",
       "      <th>country</th>\n",
       "      <th>points</th>\n",
       "      <th>price</th>\n",
       "      <th>province</th>\n",
       "      <th>region_1</th>\n",
       "      <th>variety</th>\n",
       "      <th>winery</th>\n",
       "    </tr>\n",
       "  </thead>\n",
       "  <tbody>\n",
       "    <tr>\n",
       "      <th>0</th>\n",
       "      <td>1</td>\n",
       "      <td>US</td>\n",
       "      <td>96</td>\n",
       "      <td>235</td>\n",
       "      <td>California</td>\n",
       "      <td>Napa Valley</td>\n",
       "      <td>Cabernet Sauvignon</td>\n",
       "      <td>Heitz</td>\n",
       "    </tr>\n",
       "    <tr>\n",
       "      <th>1</th>\n",
       "      <td>2</td>\n",
       "      <td>Spain</td>\n",
       "      <td>96</td>\n",
       "      <td>110</td>\n",
       "      <td>Northern Spain</td>\n",
       "      <td>Toro</td>\n",
       "      <td>Tinta de Toro</td>\n",
       "      <td>Bodega Carmen Rodríguez</td>\n",
       "    </tr>\n",
       "    <tr>\n",
       "      <th>2</th>\n",
       "      <td>3</td>\n",
       "      <td>US</td>\n",
       "      <td>96</td>\n",
       "      <td>90</td>\n",
       "      <td>California</td>\n",
       "      <td>Knights Valley</td>\n",
       "      <td>Sauvignon Blanc</td>\n",
       "      <td>Macauley</td>\n",
       "    </tr>\n",
       "    <tr>\n",
       "      <th>3</th>\n",
       "      <td>4</td>\n",
       "      <td>US</td>\n",
       "      <td>96</td>\n",
       "      <td>65</td>\n",
       "      <td>Oregon</td>\n",
       "      <td>Willamette Valley</td>\n",
       "      <td>Pinot Noir</td>\n",
       "      <td>Ponzi</td>\n",
       "    </tr>\n",
       "    <tr>\n",
       "      <th>4</th>\n",
       "      <td>5</td>\n",
       "      <td>France</td>\n",
       "      <td>95</td>\n",
       "      <td>66</td>\n",
       "      <td>Provence</td>\n",
       "      <td>Bandol</td>\n",
       "      <td>Provence red blend</td>\n",
       "      <td>Domaine de la Bégude</td>\n",
       "    </tr>\n",
       "  </tbody>\n",
       "</table>\n",
       "</div>"
      ],
      "text/plain": [
       "   SN country  points  price        province           region_1  \\\n",
       "0   1      US      96    235      California        Napa Valley   \n",
       "1   2   Spain      96    110  Northern Spain               Toro   \n",
       "2   3      US      96     90      California     Knights Valley   \n",
       "3   4      US      96     65          Oregon  Willamette Valley   \n",
       "4   5  France      95     66        Provence             Bandol   \n",
       "\n",
       "              variety                   winery  \n",
       "0  Cabernet Sauvignon                    Heitz  \n",
       "1       Tinta de Toro  Bodega Carmen Rodríguez  \n",
       "2     Sauvignon Blanc                 Macauley  \n",
       "3          Pinot Noir                    Ponzi  \n",
       "4  Provence red blend     Domaine de la Bégude  "
      ]
     },
     "execution_count": 9,
     "metadata": {},
     "output_type": "execute_result"
    }
   ],
   "source": [
    "data.head()"
   ]
  },
  {
   "cell_type": "code",
   "execution_count": 10,
   "metadata": {},
   "outputs": [
    {
     "data": {
      "text/plain": [
       "pandas.core.frame.DataFrame"
      ]
     },
     "execution_count": 10,
     "metadata": {},
     "output_type": "execute_result"
    }
   ],
   "source": [
    "type(data)"
   ]
  },
  {
   "cell_type": "markdown",
   "metadata": {},
   "source": [
    "#### When we have a set of observations, it is useful to summarize features of our data into a single statement called a descriptive statistic. As their name suggests, descriptive statistics describe a particular quality of the data they summarize. These statistics fall into two general categories: \n",
    "#### the measures of central tendency and \n",
    "#### the measures of spread."
   ]
  },
  {
   "cell_type": "markdown",
   "metadata": {},
   "source": [
    "# Measures of Central Tendency"
   ]
  },
  {
   "cell_type": "markdown",
   "metadata": {},
   "source": [
    "# Mean"
   ]
  },
  {
   "cell_type": "code",
   "execution_count": 4,
   "metadata": {},
   "outputs": [],
   "source": [
    "price = data['price']  #n1+n2/2"
   ]
  },
  {
   "cell_type": "code",
   "execution_count": 7,
   "metadata": {
    "scrolled": true
   },
   "outputs": [
    {
     "data": {
      "text/plain": [
       "0        235\n",
       "1        110\n",
       "2         90\n",
       "3         65\n",
       "4         66\n",
       "5         73\n",
       "6         65\n",
       "7        110\n",
       "8         65\n",
       "9         60\n",
       "10        80\n",
       "11        48\n",
       "12        48\n",
       "13        90\n",
       "14       185\n",
       "15        90\n",
       "16       325\n",
       "17        80\n",
       "18       290\n",
       "19        75\n",
       "20        24\n",
       "21        79\n",
       "22       220\n",
       "23        60\n",
       "24        45\n",
       "25        57\n",
       "26        62\n",
       "27       105\n",
       "28        60\n",
       "29        60\n",
       "        ... \n",
       "53488     32\n",
       "53489     35\n",
       "53490     10\n",
       "53491      9\n",
       "53492     22\n",
       "53493     25\n",
       "53494     47\n",
       "53495     20\n",
       "53496     18\n",
       "53497     15\n",
       "53498     25\n",
       "53499     20\n",
       "53500     21\n",
       "53501     49\n",
       "53502     21\n",
       "53503     20\n",
       "53504     28\n",
       "53505     20\n",
       "53506     40\n",
       "53507     15\n",
       "53508     13\n",
       "53509     25\n",
       "53510     30\n",
       "53511     26\n",
       "53512     60\n",
       "53513     45\n",
       "53514     27\n",
       "53515     16\n",
       "53516     18\n",
       "53517     25\n",
       "Name: price, Length: 53518, dtype: int64"
      ]
     },
     "execution_count": 7,
     "metadata": {},
     "output_type": "execute_result"
    }
   ],
   "source": [
    "price"
   ]
  },
  {
   "cell_type": "code",
   "execution_count": 13,
   "metadata": {},
   "outputs": [
    {
     "data": {
      "text/plain": [
       "Index(['SN', 'country', 'points', 'price', 'province', 'region_1', 'variety',\n",
       "       'winery'],\n",
       "      dtype='object')"
      ]
     },
     "execution_count": 13,
     "metadata": {},
     "output_type": "execute_result"
    }
   ],
   "source": [
    "data.columns"
   ]
  },
  {
   "cell_type": "code",
   "execution_count": 22,
   "metadata": {},
   "outputs": [],
   "source": [
    "sum_price = sum(price)"
   ]
  },
  {
   "cell_type": "code",
   "execution_count": 23,
   "metadata": {},
   "outputs": [
    {
     "data": {
      "text/plain": [
       "1862482"
      ]
     },
     "execution_count": 23,
     "metadata": {},
     "output_type": "execute_result"
    }
   ],
   "source": [
    "sum_price"
   ]
  },
  {
   "cell_type": "code",
   "execution_count": 24,
   "metadata": {},
   "outputs": [],
   "source": [
    "count = len(price)"
   ]
  },
  {
   "cell_type": "code",
   "execution_count": 25,
   "metadata": {},
   "outputs": [
    {
     "data": {
      "text/plain": [
       "53518"
      ]
     },
     "execution_count": 25,
     "metadata": {},
     "output_type": "execute_result"
    }
   ],
   "source": [
    "count"
   ]
  },
  {
   "cell_type": "code",
   "execution_count": 26,
   "metadata": {},
   "outputs": [],
   "source": [
    "average = sum_price/count"
   ]
  },
  {
   "cell_type": "code",
   "execution_count": 27,
   "metadata": {},
   "outputs": [
    {
     "data": {
      "text/plain": [
       "34.80103890279906"
      ]
     },
     "execution_count": 27,
     "metadata": {},
     "output_type": "execute_result"
    }
   ],
   "source": [
    "average"
   ]
  },
  {
   "cell_type": "code",
   "execution_count": 10,
   "metadata": {},
   "outputs": [],
   "source": [
    "import numpy as np"
   ]
  },
  {
   "cell_type": "code",
   "execution_count": 29,
   "metadata": {},
   "outputs": [],
   "source": [
    "mean = np.mean(price)"
   ]
  },
  {
   "cell_type": "code",
   "execution_count": 30,
   "metadata": {},
   "outputs": [
    {
     "data": {
      "text/plain": [
       "34.80103890279906"
      ]
     },
     "execution_count": 30,
     "metadata": {},
     "output_type": "execute_result"
    }
   ],
   "source": [
    "mean"
   ]
  },
  {
   "cell_type": "code",
   "execution_count": 33,
   "metadata": {},
   "outputs": [],
   "source": [
    "from statistics import mean"
   ]
  },
  {
   "cell_type": "code",
   "execution_count": 35,
   "metadata": {},
   "outputs": [],
   "source": [
    "import statistics as st"
   ]
  },
  {
   "cell_type": "code",
   "execution_count": 36,
   "metadata": {},
   "outputs": [
    {
     "data": {
      "text/plain": [
       "34.80103890279906"
      ]
     },
     "execution_count": 36,
     "metadata": {},
     "output_type": "execute_result"
    }
   ],
   "source": [
    "st.mean(price)"
   ]
  },
  {
   "cell_type": "markdown",
   "metadata": {},
   "source": [
    "# Median"
   ]
  },
  {
   "cell_type": "code",
   "execution_count": 37,
   "metadata": {},
   "outputs": [
    {
     "data": {
      "text/plain": [
       "53518"
      ]
     },
     "execution_count": 37,
     "metadata": {},
     "output_type": "execute_result"
    }
   ],
   "source": [
    "n = len(price)   #(n+1)/2\n",
    "n"
   ]
  },
  {
   "cell_type": "code",
   "execution_count": 38,
   "metadata": {},
   "outputs": [],
   "source": [
    "sorted_prices = np.sort(price)"
   ]
  },
  {
   "cell_type": "code",
   "execution_count": 39,
   "metadata": {},
   "outputs": [
    {
     "data": {
      "text/plain": [
       "26759.5"
      ]
     },
     "execution_count": 39,
     "metadata": {},
     "output_type": "execute_result"
    }
   ],
   "source": [
    "median = (n+1)/2\n",
    "median"
   ]
  },
  {
   "cell_type": "code",
   "execution_count": 41,
   "metadata": {},
   "outputs": [
    {
     "data": {
      "text/plain": [
       "25"
      ]
     },
     "execution_count": 41,
     "metadata": {},
     "output_type": "execute_result"
    }
   ],
   "source": [
    "sorted_prices[int(median)]"
   ]
  },
  {
   "cell_type": "code",
   "execution_count": 42,
   "metadata": {},
   "outputs": [
    {
     "data": {
      "text/plain": [
       "25.0"
      ]
     },
     "execution_count": 42,
     "metadata": {},
     "output_type": "execute_result"
    }
   ],
   "source": [
    "Median_1 = np.median(price)\n",
    "Median_1"
   ]
  },
  {
   "cell_type": "code",
   "execution_count": 43,
   "metadata": {},
   "outputs": [
    {
     "data": {
      "text/plain": [
       "25.0"
      ]
     },
     "execution_count": 43,
     "metadata": {},
     "output_type": "execute_result"
    }
   ],
   "source": [
    "st.median(price)"
   ]
  },
  {
   "cell_type": "markdown",
   "metadata": {},
   "source": [
    "# Mode"
   ]
  },
  {
   "cell_type": "code",
   "execution_count": 44,
   "metadata": {},
   "outputs": [],
   "source": [
    "from statistics import mode\n",
    "Mode = mode(price)"
   ]
  },
  {
   "cell_type": "code",
   "execution_count": 45,
   "metadata": {},
   "outputs": [
    {
     "data": {
      "text/plain": [
       "20"
      ]
     },
     "execution_count": 45,
     "metadata": {},
     "output_type": "execute_result"
    }
   ],
   "source": [
    "Mode"
   ]
  },
  {
   "cell_type": "code",
   "execution_count": 46,
   "metadata": {},
   "outputs": [
    {
     "data": {
      "text/plain": [
       "Counter({235: 9,\n",
       "         110: 79,\n",
       "         90: 311,\n",
       "         65: 661,\n",
       "         66: 49,\n",
       "         73: 20,\n",
       "         60: 936,\n",
       "         80: 356,\n",
       "         48: 592,\n",
       "         185: 9,\n",
       "         325: 6,\n",
       "         290: 4,\n",
       "         75: 587,\n",
       "         24: 1325,\n",
       "         79: 50,\n",
       "         220: 10,\n",
       "         45: 1342,\n",
       "         57: 79,\n",
       "         62: 108,\n",
       "         105: 64,\n",
       "         15: 2765,\n",
       "         37: 224,\n",
       "         22: 1505,\n",
       "         42: 608,\n",
       "         135: 49,\n",
       "         29: 551,\n",
       "         23: 731,\n",
       "         17: 1398,\n",
       "         26: 714,\n",
       "         55: 769,\n",
       "         39: 387,\n",
       "         69: 65,\n",
       "         30: 2144,\n",
       "         50: 1419,\n",
       "         40: 1696,\n",
       "         100: 283,\n",
       "         68: 81,\n",
       "         28: 1334,\n",
       "         18: 2222,\n",
       "         25: 2522,\n",
       "         36: 608,\n",
       "         38: 746,\n",
       "         85: 283,\n",
       "         19: 1270,\n",
       "         54: 143,\n",
       "         59: 106,\n",
       "         10: 1622,\n",
       "         12: 1757,\n",
       "         13: 1678,\n",
       "         14: 1446,\n",
       "         20: 3155,\n",
       "         125: 149,\n",
       "         7: 195,\n",
       "         49: 226,\n",
       "         93: 10,\n",
       "         32: 875,\n",
       "         16: 1600,\n",
       "         21: 572,\n",
       "         44: 279,\n",
       "         35: 1666,\n",
       "         61: 32,\n",
       "         34: 443,\n",
       "         11: 1035,\n",
       "         58: 163,\n",
       "         120: 123,\n",
       "         41: 88,\n",
       "         200: 32,\n",
       "         43: 129,\n",
       "         9: 683,\n",
       "         56: 131,\n",
       "         46: 173,\n",
       "         92: 28,\n",
       "         94: 17,\n",
       "         27: 559,\n",
       "         95: 147,\n",
       "         33: 308,\n",
       "         70: 426,\n",
       "         155: 11,\n",
       "         63: 51,\n",
       "         130: 58,\n",
       "         115: 46,\n",
       "         31: 120,\n",
       "         98: 17,\n",
       "         52: 207,\n",
       "         64: 56,\n",
       "         91: 4,\n",
       "         111: 2,\n",
       "         88: 26,\n",
       "         74: 28,\n",
       "         77: 16,\n",
       "         87: 17,\n",
       "         113: 3,\n",
       "         140: 50,\n",
       "         500: 6,\n",
       "         51: 32,\n",
       "         150: 113,\n",
       "         240: 9,\n",
       "         72: 70,\n",
       "         103: 7,\n",
       "         8: 407,\n",
       "         136: 1,\n",
       "         141: 3,\n",
       "         102: 16,\n",
       "         47: 116,\n",
       "         53: 87,\n",
       "         96: 12,\n",
       "         78: 35,\n",
       "         149: 4,\n",
       "         138: 4,\n",
       "         117: 5,\n",
       "         4: 6,\n",
       "         99: 40,\n",
       "         848: 1,\n",
       "         450: 5,\n",
       "         330: 2,\n",
       "         175: 43,\n",
       "         89: 21,\n",
       "         82: 43,\n",
       "         71: 19,\n",
       "         137: 4,\n",
       "         145: 21,\n",
       "         698: 1,\n",
       "         160: 16,\n",
       "         770: 2,\n",
       "         118: 6,\n",
       "         238: 2,\n",
       "         202: 1,\n",
       "         250: 16,\n",
       "         165: 11,\n",
       "         83: 11,\n",
       "         107: 5,\n",
       "         76: 15,\n",
       "         67: 38,\n",
       "         128: 5,\n",
       "         119: 5,\n",
       "         129: 1,\n",
       "         180: 14,\n",
       "         6: 68,\n",
       "         225: 15,\n",
       "         5: 14,\n",
       "         152: 2,\n",
       "         84: 14,\n",
       "         86: 25,\n",
       "         124: 3,\n",
       "         97: 5,\n",
       "         365: 3,\n",
       "         179: 1,\n",
       "         350: 11,\n",
       "         195: 14,\n",
       "         300: 17,\n",
       "         156: 1,\n",
       "         315: 3,\n",
       "         187: 1,\n",
       "         520: 1,\n",
       "         170: 13,\n",
       "         428: 1,\n",
       "         257: 1,\n",
       "         294: 1,\n",
       "         166: 1,\n",
       "         226: 1,\n",
       "         280: 6,\n",
       "         380: 4,\n",
       "         740: 1,\n",
       "         108: 11,\n",
       "         391: 2,\n",
       "         282: 1,\n",
       "         312: 3,\n",
       "         123: 4,\n",
       "         131: 1,\n",
       "         196: 1,\n",
       "         850: 2,\n",
       "         600: 3,\n",
       "         237: 4,\n",
       "         227: 2,\n",
       "         351: 1,\n",
       "         415: 1,\n",
       "         1100: 2,\n",
       "         104: 3,\n",
       "         127: 2,\n",
       "         106: 6,\n",
       "         258: 1,\n",
       "         375: 5,\n",
       "         320: 5,\n",
       "         980: 1,\n",
       "         112: 7,\n",
       "         101: 2,\n",
       "         230: 8,\n",
       "         142: 3,\n",
       "         468: 2,\n",
       "         639: 2,\n",
       "         288: 2,\n",
       "         281: 3,\n",
       "         357: 2,\n",
       "         208: 2,\n",
       "         199: 3,\n",
       "         307: 2,\n",
       "         159: 5,\n",
       "         168: 5,\n",
       "         133: 2,\n",
       "         310: 3,\n",
       "         215: 7,\n",
       "         670: 2,\n",
       "         122: 4,\n",
       "         245: 4,\n",
       "         463: 2,\n",
       "         260: 8,\n",
       "         2013: 1,\n",
       "         239: 2,\n",
       "         400: 9,\n",
       "         269: 1,\n",
       "         214: 1,\n",
       "         625: 2,\n",
       "         81: 3,\n",
       "         270: 4,\n",
       "         345: 1,\n",
       "         316: 2,\n",
       "         205: 3,\n",
       "         410: 1,\n",
       "         275: 7,\n",
       "         126: 3,\n",
       "         764: 1,\n",
       "         190: 4,\n",
       "         153: 2,\n",
       "         183: 1,\n",
       "         212: 1,\n",
       "         167: 3,\n",
       "         169: 6,\n",
       "         285: 1,\n",
       "         279: 2,\n",
       "         249: 1,\n",
       "         299: 2,\n",
       "         229: 3,\n",
       "         360: 2,\n",
       "         460: 6,\n",
       "         800: 3,\n",
       "         139: 5,\n",
       "         1400: 2,\n",
       "         385: 3,\n",
       "         390: 2,\n",
       "         252: 2,\n",
       "         109: 5,\n",
       "         154: 2,\n",
       "         134: 3,\n",
       "         295: 3,\n",
       "         445: 1,\n",
       "         612: 1,\n",
       "         271: 1,\n",
       "         228: 2,\n",
       "         448: 1,\n",
       "         292: 1,\n",
       "         440: 1,\n",
       "         376: 1,\n",
       "         231: 1,\n",
       "         114: 3,\n",
       "         349: 2,\n",
       "         399: 2,\n",
       "         163: 4,\n",
       "         210: 3,\n",
       "         116: 2,\n",
       "         151: 1,\n",
       "         148: 2,\n",
       "         162: 1,\n",
       "         191: 1,\n",
       "         173: 1,\n",
       "         318: 1,\n",
       "         550: 4,\n",
       "         510: 1,\n",
       "         660: 1,\n",
       "         685: 1,\n",
       "         182: 2,\n",
       "         775: 2,\n",
       "         323: 1,\n",
       "         419: 1,\n",
       "         132: 1,\n",
       "         2300: 1,\n",
       "         1900: 1,\n",
       "         1300: 1,\n",
       "         1200: 1,\n",
       "         236: 1,\n",
       "         412: 1,\n",
       "         1000: 1,\n",
       "         545: 1,\n",
       "         243: 1,\n",
       "         143: 2,\n",
       "         426: 1,\n",
       "         588: 1,\n",
       "         204: 1,\n",
       "         265: 1,\n",
       "         158: 1,\n",
       "         174: 1,\n",
       "         247: 1,\n",
       "         164: 4,\n",
       "         430: 1,\n",
       "         194: 2,\n",
       "         261: 1,\n",
       "         147: 2,\n",
       "         451: 1,\n",
       "         574: 1,\n",
       "         544: 1,\n",
       "         273: 1,\n",
       "         189: 1,\n",
       "         317: 1,\n",
       "         248: 1,\n",
       "         177: 1,\n",
       "         176: 1,\n",
       "         144: 1})"
      ]
     },
     "execution_count": 46,
     "metadata": {},
     "output_type": "execute_result"
    }
   ],
   "source": [
    "import collections\n",
    "collections.Counter(price)"
   ]
  },
  {
   "cell_type": "markdown",
   "metadata": {},
   "source": [
    "## The problem of outliers"
   ]
  },
  {
   "cell_type": "code",
   "execution_count": 47,
   "metadata": {},
   "outputs": [
    {
     "name": "stdout",
     "output_type": "stream",
     "text": [
      "4 2300\n"
     ]
    }
   ],
   "source": [
    "min_price = min(price)\n",
    "max_price = max(price)\n",
    "\n",
    "print(min_price, max_price)\n"
   ]
  },
  {
   "cell_type": "markdown",
   "metadata": {},
   "source": [
    "# Measures of Spread"
   ]
  },
  {
   "cell_type": "markdown",
   "metadata": {},
   "source": [
    "# Range and inter quartile range"
   ]
  },
  {
   "cell_type": "code",
   "execution_count": 51,
   "metadata": {},
   "outputs": [
    {
     "name": "stdout",
     "output_type": "stream",
     "text": [
      "2296\n"
     ]
    }
   ],
   "source": [
    "price_range = max_price - min_price\n",
    "print(price_range)\n"
   ]
  },
  {
   "cell_type": "markdown",
   "metadata": {},
   "source": [
    "# Inter quantile range (Q3-Q1)"
   ]
  },
  {
   "cell_type": "code",
   "execution_count": 71,
   "metadata": {},
   "outputs": [
    {
     "name": "stdout",
     "output_type": "stream",
     "text": [
      "0.25    17.0\n",
      "Name: price, dtype: float64\n",
      "0.5    25.0\n",
      "Name: price, dtype: float64\n",
      "0.75    40.0\n",
      "Name: price, dtype: float64\n",
      "1.0    2300.0\n",
      "Name: price, dtype: float64\n",
      "0.0    4.0\n",
      "Name: price, dtype: float64\n"
     ]
    }
   ],
   "source": [
    "print(price.quantile([0.25]))\n",
    "print(price.quantile([0.50]))\n",
    "print(price.quantile([0.75]))\n",
    "print(price.quantile([1]))\n",
    "print(price.quantile([0]))"
   ]
  },
  {
   "cell_type": "code",
   "execution_count": 73,
   "metadata": {},
   "outputs": [],
   "source": [
    "price_quantile_Q1 = price.quantile([0.25])\n",
    "price_quantile_Q3 = price.quantile([0.75])"
   ]
  },
  {
   "cell_type": "code",
   "execution_count": 74,
   "metadata": {},
   "outputs": [
    {
     "data": {
      "text/plain": [
       "23.0"
      ]
     },
     "execution_count": 74,
     "metadata": {},
     "output_type": "execute_result"
    }
   ],
   "source": [
    "IQR = price_quantile_Q3[0.75]-price_quantile_Q1[0.25]\n",
    "IQR"
   ]
  },
  {
   "cell_type": "markdown",
   "metadata": {},
   "source": [
    "# Standard Deviation"
   ]
  },
  {
   "cell_type": "markdown",
   "metadata": {},
   "source": [
    "#### The standard deviation is also a measure of the spread of your observations, but is a statement of how much your data deviates from a typical data point. That is to say, the standard deviation summarizes how much your data differs from the mean. This relationship to the mean is apparent in standard deviation’s calculation. "
   ]
  },
  {
   "cell_type": "markdown",
   "metadata": {},
   "source": [
    "#### Standard deviation is a measure that is used to quantify the amount of variation or dispersion of a set of data values."
   ]
  },
  {
   "cell_type": "code",
   "execution_count": 5,
   "metadata": {},
   "outputs": [],
   "source": [
    "def stdev(nums):\n",
    "    diffs = 0\n",
    "    avg = sum(nums)/len(nums)\n",
    "    for n in nums:\n",
    "        diffs += (n - avg)**(2)\n",
    "    return (diffs/(len(nums)-1))**(0.5)   #(n-nbar)^2/(n-1)"
   ]
  },
  {
   "cell_type": "code",
   "execution_count": 6,
   "metadata": {
    "scrolled": true
   },
   "outputs": [
    {
     "name": "stdout",
     "output_type": "stream",
     "text": [
      "41.453611192987836\n"
     ]
    }
   ],
   "source": [
    "print(stdev(price))"
   ]
  },
  {
   "cell_type": "code",
   "execution_count": 8,
   "metadata": {},
   "outputs": [],
   "source": [
    "import numpy as np"
   ]
  },
  {
   "cell_type": "code",
   "execution_count": 9,
   "metadata": {},
   "outputs": [],
   "source": [
    "std_dev = np.std(price)"
   ]
  },
  {
   "cell_type": "code",
   "execution_count": 10,
   "metadata": {},
   "outputs": [
    {
     "data": {
      "text/plain": [
       "41.45322390455368"
      ]
     },
     "execution_count": 10,
     "metadata": {},
     "output_type": "execute_result"
    }
   ],
   "source": [
    "std_dev"
   ]
  },
  {
   "cell_type": "code",
   "execution_count": 11,
   "metadata": {},
   "outputs": [],
   "source": [
    "import statistics\n",
    "from statistics import stdev"
   ]
  },
  {
   "cell_type": "code",
   "execution_count": 12,
   "metadata": {},
   "outputs": [
    {
     "data": {
      "text/plain": [
       "41.45361119298847"
      ]
     },
     "execution_count": 12,
     "metadata": {},
     "output_type": "execute_result"
    }
   ],
   "source": [
    "stdev(price)"
   ]
  },
  {
   "cell_type": "markdown",
   "metadata": {},
   "source": [
    "# Variance"
   ]
  },
  {
   "cell_type": "markdown",
   "metadata": {},
   "source": [
    "#### Variance and standard deviation are almost the exact same thing! Variance is just the square of the standard deviation. Likewise, variance and standard deviation represent the same thing — a measure of spread — but it’s worth noting that the units are different. Whatever units your data are in, standard deviation will be the same, and variation will be in that units-squared."
   ]
  },
  {
   "cell_type": "markdown",
   "metadata": {},
   "source": [
    "#### variance is the expectation of the squared deviation of a random variable from its mean."
   ]
  },
  {
   "cell_type": "code",
   "execution_count": 13,
   "metadata": {},
   "outputs": [],
   "source": [
    "variance = np.square(std_dev)"
   ]
  },
  {
   "cell_type": "code",
   "execution_count": 16,
   "metadata": {},
   "outputs": [
    {
     "data": {
      "text/plain": [
       "1718.3697720810608"
      ]
     },
     "execution_count": 16,
     "metadata": {},
     "output_type": "execute_result"
    }
   ],
   "source": [
    "variance"
   ]
  },
  {
   "cell_type": "code",
   "execution_count": 17,
   "metadata": {},
   "outputs": [
    {
     "data": {
      "text/html": [
       "<div>\n",
       "<style scoped>\n",
       "    .dataframe tbody tr th:only-of-type {\n",
       "        vertical-align: middle;\n",
       "    }\n",
       "\n",
       "    .dataframe tbody tr th {\n",
       "        vertical-align: top;\n",
       "    }\n",
       "\n",
       "    .dataframe thead th {\n",
       "        text-align: right;\n",
       "    }\n",
       "</style>\n",
       "<table border=\"1\" class=\"dataframe\">\n",
       "  <thead>\n",
       "    <tr style=\"text-align: right;\">\n",
       "      <th></th>\n",
       "      <th>SN</th>\n",
       "      <th>points</th>\n",
       "      <th>price</th>\n",
       "    </tr>\n",
       "  </thead>\n",
       "  <tbody>\n",
       "    <tr>\n",
       "      <th>count</th>\n",
       "      <td>53518.00000</td>\n",
       "      <td>53518.000000</td>\n",
       "      <td>53518.000000</td>\n",
       "    </tr>\n",
       "    <tr>\n",
       "      <th>mean</th>\n",
       "      <td>26759.50000</td>\n",
       "      <td>88.186106</td>\n",
       "      <td>34.801039</td>\n",
       "    </tr>\n",
       "    <tr>\n",
       "      <th>std</th>\n",
       "      <td>15449.46019</td>\n",
       "      <td>3.102856</td>\n",
       "      <td>41.453611</td>\n",
       "    </tr>\n",
       "    <tr>\n",
       "      <th>min</th>\n",
       "      <td>1.00000</td>\n",
       "      <td>80.000000</td>\n",
       "      <td>4.000000</td>\n",
       "    </tr>\n",
       "    <tr>\n",
       "      <th>25%</th>\n",
       "      <td>13380.25000</td>\n",
       "      <td>86.000000</td>\n",
       "      <td>17.000000</td>\n",
       "    </tr>\n",
       "    <tr>\n",
       "      <th>50%</th>\n",
       "      <td>26759.50000</td>\n",
       "      <td>88.000000</td>\n",
       "      <td>25.000000</td>\n",
       "    </tr>\n",
       "    <tr>\n",
       "      <th>75%</th>\n",
       "      <td>40138.75000</td>\n",
       "      <td>90.000000</td>\n",
       "      <td>40.000000</td>\n",
       "    </tr>\n",
       "    <tr>\n",
       "      <th>max</th>\n",
       "      <td>53518.00000</td>\n",
       "      <td>100.000000</td>\n",
       "      <td>2300.000000</td>\n",
       "    </tr>\n",
       "  </tbody>\n",
       "</table>\n",
       "</div>"
      ],
      "text/plain": [
       "                SN        points         price\n",
       "count  53518.00000  53518.000000  53518.000000\n",
       "mean   26759.50000     88.186106     34.801039\n",
       "std    15449.46019      3.102856     41.453611\n",
       "min        1.00000     80.000000      4.000000\n",
       "25%    13380.25000     86.000000     17.000000\n",
       "50%    26759.50000     88.000000     25.000000\n",
       "75%    40138.75000     90.000000     40.000000\n",
       "max    53518.00000    100.000000   2300.000000"
      ]
     },
     "execution_count": 17,
     "metadata": {},
     "output_type": "execute_result"
    }
   ],
   "source": [
    "data.describe()"
   ]
  },
  {
   "cell_type": "code",
   "execution_count": 15,
   "metadata": {},
   "outputs": [
    {
     "data": {
      "text/plain": [
       "count    53518.000000\n",
       "mean        34.801039\n",
       "std         41.453611\n",
       "min          4.000000\n",
       "25%         17.000000\n",
       "50%         25.000000\n",
       "75%         40.000000\n",
       "max       2300.000000\n",
       "Name: price, dtype: float64"
      ]
     },
     "execution_count": 15,
     "metadata": {},
     "output_type": "execute_result"
    }
   ],
   "source": [
    "data['price'].describe()"
   ]
  },
  {
   "cell_type": "code",
   "execution_count": 18,
   "metadata": {},
   "outputs": [
    {
     "data": {
      "text/plain": [
       "SN           int64\n",
       "country     object\n",
       "points       int64\n",
       "price        int64\n",
       "province    object\n",
       "region_1    object\n",
       "variety     object\n",
       "winery      object\n",
       "dtype: object"
      ]
     },
     "execution_count": 18,
     "metadata": {},
     "output_type": "execute_result"
    }
   ],
   "source": [
    "data.dtypes"
   ]
  },
  {
   "cell_type": "code",
   "execution_count": 19,
   "metadata": {},
   "outputs": [
    {
     "data": {
      "text/html": [
       "<div>\n",
       "<style scoped>\n",
       "    .dataframe tbody tr th:only-of-type {\n",
       "        vertical-align: middle;\n",
       "    }\n",
       "\n",
       "    .dataframe tbody tr th {\n",
       "        vertical-align: top;\n",
       "    }\n",
       "\n",
       "    .dataframe thead th {\n",
       "        text-align: right;\n",
       "    }\n",
       "</style>\n",
       "<table border=\"1\" class=\"dataframe\">\n",
       "  <thead>\n",
       "    <tr style=\"text-align: right;\">\n",
       "      <th></th>\n",
       "      <th>SN</th>\n",
       "      <th>points</th>\n",
       "      <th>price</th>\n",
       "    </tr>\n",
       "  </thead>\n",
       "  <tbody>\n",
       "    <tr>\n",
       "      <th>count</th>\n",
       "      <td>53518.00000</td>\n",
       "      <td>53518.000000</td>\n",
       "      <td>53518.000000</td>\n",
       "    </tr>\n",
       "    <tr>\n",
       "      <th>mean</th>\n",
       "      <td>26759.50000</td>\n",
       "      <td>88.186106</td>\n",
       "      <td>34.801039</td>\n",
       "    </tr>\n",
       "    <tr>\n",
       "      <th>std</th>\n",
       "      <td>15449.46019</td>\n",
       "      <td>3.102856</td>\n",
       "      <td>41.453611</td>\n",
       "    </tr>\n",
       "    <tr>\n",
       "      <th>min</th>\n",
       "      <td>1.00000</td>\n",
       "      <td>80.000000</td>\n",
       "      <td>4.000000</td>\n",
       "    </tr>\n",
       "    <tr>\n",
       "      <th>25%</th>\n",
       "      <td>13380.25000</td>\n",
       "      <td>86.000000</td>\n",
       "      <td>17.000000</td>\n",
       "    </tr>\n",
       "    <tr>\n",
       "      <th>50%</th>\n",
       "      <td>26759.50000</td>\n",
       "      <td>88.000000</td>\n",
       "      <td>25.000000</td>\n",
       "    </tr>\n",
       "    <tr>\n",
       "      <th>75%</th>\n",
       "      <td>40138.75000</td>\n",
       "      <td>90.000000</td>\n",
       "      <td>40.000000</td>\n",
       "    </tr>\n",
       "    <tr>\n",
       "      <th>max</th>\n",
       "      <td>53518.00000</td>\n",
       "      <td>100.000000</td>\n",
       "      <td>2300.000000</td>\n",
       "    </tr>\n",
       "  </tbody>\n",
       "</table>\n",
       "</div>"
      ],
      "text/plain": [
       "                SN        points         price\n",
       "count  53518.00000  53518.000000  53518.000000\n",
       "mean   26759.50000     88.186106     34.801039\n",
       "std    15449.46019      3.102856     41.453611\n",
       "min        1.00000     80.000000      4.000000\n",
       "25%    13380.25000     86.000000     17.000000\n",
       "50%    26759.50000     88.000000     25.000000\n",
       "75%    40138.75000     90.000000     40.000000\n",
       "max    53518.00000    100.000000   2300.000000"
      ]
     },
     "execution_count": 19,
     "metadata": {},
     "output_type": "execute_result"
    }
   ],
   "source": [
    "data.describe()"
   ]
  },
  {
   "cell_type": "code",
   "execution_count": 23,
   "metadata": {},
   "outputs": [
    {
     "data": {
      "text/plain": [
       "<matplotlib.axes._subplots.AxesSubplot at 0x11743908>"
      ]
     },
     "execution_count": 23,
     "metadata": {},
     "output_type": "execute_result"
    },
    {
     "data": {
      "image/png": "[encoded data removed]",
      "text/plain": [
       "<Figure size 360x360 with 1 Axes>"
      ]
     },
     "metadata": {},
     "output_type": "display_data"
    }
   ],
   "source": [
    "import matplotlib.pyplot as plt \n",
    "plt.figure(figsize = (5, 5)) \n",
    "data['price'].plot(kind =\"box\") "
   ]
  },
  {
   "cell_type": "code",
   "execution_count": 51,
   "metadata": {},
   "outputs": [
    {
     "data": {
      "text/plain": [
       "<matplotlib.axes._subplots.AxesSubplot at 0x15ca71d0>"
      ]
     },
     "execution_count": 51,
     "metadata": {},
     "output_type": "execute_result"
    },
    {
     "data": {
      "image/png": "[encoded data removed]",
      "text/plain": [
       "<Figure size 720x360 with 1 Axes>"
      ]
     },
     "metadata": {},
     "output_type": "display_data"
    }
   ],
   "source": [
    "plt.figure(figsize = (10, 5)) \n",
    "data['price'].plot(kind =\"hist\") "
   ]
  },
  {
   "cell_type": "markdown",
   "metadata": {},
   "source": [
    "# Correlation "
   ]
  },
  {
   "cell_type": "code",
   "execution_count": 25,
   "metadata": {},
   "outputs": [
    {
     "data": {
      "text/html": [
       "<div>\n",
       "<style scoped>\n",
       "    .dataframe tbody tr th:only-of-type {\n",
       "        vertical-align: middle;\n",
       "    }\n",
       "\n",
       "    .dataframe tbody tr th {\n",
       "        vertical-align: top;\n",
       "    }\n",
       "\n",
       "    .dataframe thead th {\n",
       "        text-align: right;\n",
       "    }\n",
       "</style>\n",
       "<table border=\"1\" class=\"dataframe\">\n",
       "  <thead>\n",
       "    <tr style=\"text-align: right;\">\n",
       "      <th></th>\n",
       "      <th>SN</th>\n",
       "      <th>points</th>\n",
       "      <th>price</th>\n",
       "    </tr>\n",
       "  </thead>\n",
       "  <tbody>\n",
       "    <tr>\n",
       "      <th>SN</th>\n",
       "      <td>1.000000</td>\n",
       "      <td>-0.095941</td>\n",
       "      <td>-0.026404</td>\n",
       "    </tr>\n",
       "    <tr>\n",
       "      <th>points</th>\n",
       "      <td>-0.095941</td>\n",
       "      <td>1.000000</td>\n",
       "      <td>0.427794</td>\n",
       "    </tr>\n",
       "    <tr>\n",
       "      <th>price</th>\n",
       "      <td>-0.026404</td>\n",
       "      <td>0.427794</td>\n",
       "      <td>1.000000</td>\n",
       "    </tr>\n",
       "  </tbody>\n",
       "</table>\n",
       "</div>"
      ],
      "text/plain": [
       "              SN    points     price\n",
       "SN      1.000000 -0.095941 -0.026404\n",
       "points -0.095941  1.000000  0.427794\n",
       "price  -0.026404  0.427794  1.000000"
      ]
     },
     "execution_count": 25,
     "metadata": {},
     "output_type": "execute_result"
    }
   ],
   "source": [
    "corrmat = data.corr()\n",
    "corrmat"
   ]
  },
  {
   "cell_type": "code",
   "execution_count": 45,
   "metadata": {},
   "outputs": [
    {
     "data": {
      "text/plain": [
       "<matplotlib.axes._subplots.AxesSubplot at 0x14a4b0b8>"
      ]
     },
     "execution_count": 45,
     "metadata": {},
     "output_type": "execute_result"
    },
    {
     "data": {
      "image/png": "[encoded data removed]",
      "text/plain": [
       "<Figure size 648x576 with 2 Axes>"
      ]
     },
     "metadata": {},
     "output_type": "display_data"
    }
   ],
   "source": [
    "import seaborn as sns \n",
    "corrmat = data.corr()\n",
    "  \n",
    "f, ax = plt.subplots(figsize =(9, 8)) \n",
    "sns.heatmap(corrmat)"
   ]
  },
  {
   "cell_type": "code",
   "execution_count": 24,
   "metadata": {},
   "outputs": [
    {
     "data": {
      "text/html": [
       "<div>\n",
       "<style scoped>\n",
       "    .dataframe tbody tr th:only-of-type {\n",
       "        vertical-align: middle;\n",
       "    }\n",
       "\n",
       "    .dataframe tbody tr th {\n",
       "        vertical-align: top;\n",
       "    }\n",
       "\n",
       "    .dataframe thead th {\n",
       "        text-align: right;\n",
       "    }\n",
       "</style>\n",
       "<table border=\"1\" class=\"dataframe\">\n",
       "  <thead>\n",
       "    <tr style=\"text-align: right;\">\n",
       "      <th></th>\n",
       "      <th>SN</th>\n",
       "      <th>points</th>\n",
       "      <th>price</th>\n",
       "    </tr>\n",
       "  </thead>\n",
       "  <tbody>\n",
       "    <tr>\n",
       "      <th>SN</th>\n",
       "      <td>1.000000</td>\n",
       "      <td>-0.095941</td>\n",
       "      <td>-0.026404</td>\n",
       "    </tr>\n",
       "    <tr>\n",
       "      <th>points</th>\n",
       "      <td>-0.095941</td>\n",
       "      <td>1.000000</td>\n",
       "      <td>0.427794</td>\n",
       "    </tr>\n",
       "    <tr>\n",
       "      <th>price</th>\n",
       "      <td>-0.026404</td>\n",
       "      <td>0.427794</td>\n",
       "      <td>1.000000</td>\n",
       "    </tr>\n",
       "  </tbody>\n",
       "</table>\n",
       "</div>"
      ],
      "text/plain": [
       "              SN    points     price\n",
       "SN      1.000000 -0.095941 -0.026404\n",
       "points -0.095941  1.000000  0.427794\n",
       "price  -0.026404  0.427794  1.000000"
      ]
     },
     "execution_count": 24,
     "metadata": {},
     "output_type": "execute_result"
    }
   ],
   "source": [
    "corrmat"
   ]
  },
  {
   "cell_type": "code",
   "execution_count": 19,
   "metadata": {},
   "outputs": [],
   "source": [
    "a =range(1,53519)"
   ]
  },
  {
   "cell_type": "code",
   "execution_count": 21,
   "metadata": {},
   "outputs": [
    {
     "data": {
      "text/plain": [
       "26759.5"
      ]
     },
     "execution_count": 21,
     "metadata": {},
     "output_type": "execute_result"
    }
   ],
   "source": [
    "np.mean(a)"
   ]
  },
  {
   "cell_type": "code",
   "execution_count": null,
   "metadata": {},
   "outputs": [],
   "source": []
  }
 ],
 "metadata": {
  "kernelspec": {
   "display_name": "Python 3",
   "language": "python",
   "name": "python3"
  },
  "language_info": {
   "codemirror_mode": {
    "name": "ipython",
    "version": 3
   },
   "file_extension": ".py",
   "mimetype": "text/x-python",
   "name": "python",
   "nbconvert_exporter": "python",
   "pygments_lexer": "ipython3",
   "version": "3.6.5"
  }
 },
 "nbformat": 4,
 "nbformat_minor": 2
}
